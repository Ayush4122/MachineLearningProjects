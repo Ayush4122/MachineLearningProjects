{
 "cells": [
  {
   "cell_type": "code",
   "execution_count": 12,
   "id": "19be72e5",
   "metadata": {},
   "outputs": [],
   "source": [
    "import pandas as pd\n",
    "import numpy\n",
    "import matplotlib\n",
    "from matplotlib import pyplot as plt\n",
    "from pandas.plotting import scatter_matrix\n",
    "%matplotlib inline\n",
    "\n",
    "import seaborn as sns\n",
    "sns.set(style=\"white\",color_codes=True)\n",
    "sns.set(font_scale=1.5)\n",
    "\n",
    "from sklearn.linear_model import LogisticRegression\n",
    "from sklearn.model_selection import train_test_split \n",
    "\n",
    "from sklearn.metrics import confusion_matrix\n",
    "from sklearn.metrics import classification_report \n",
    "from sklearn.metrics import accuracy_score\n",
    "from sklearn.metrics import precision_score\n",
    "from sklearn.metrics import recall_score\n",
    "from sklearn.metrics import f1_score\n",
    "from sklearn import metrics"
   ]
  },
  {
   "cell_type": "code",
   "execution_count": 13,
   "id": "6865159f",
   "metadata": {},
   "outputs": [
    {
     "data": {
      "text/plain": [
       "(891, 12)"
      ]
     },
     "execution_count": 13,
     "metadata": {},
     "output_type": "execute_result"
    }
   ],
   "source": [
    "df_train=pd.read_csv(r'C:\\Users\\DELL\\Downloads\\titanic.csv')\n",
    "df_train.shape"
   ]
  },
  {
   "cell_type": "code",
   "execution_count": 14,
   "id": "26d24fe7",
   "metadata": {},
   "outputs": [
    {
     "data": {
      "text/plain": [
       "0    549\n",
       "1    342\n",
       "Name: Survived, dtype: int64"
      ]
     },
     "execution_count": 14,
     "metadata": {},
     "output_type": "execute_result"
    }
   ],
   "source": [
    "df_train.Survived.value_counts()"
   ]
  },
  {
   "cell_type": "code",
   "execution_count": 15,
   "id": "342daf03",
   "metadata": {},
   "outputs": [
    {
     "data": {
      "text/plain": [
       "male      577\n",
       "female    314\n",
       "Name: Sex, dtype: int64"
      ]
     },
     "execution_count": 15,
     "metadata": {},
     "output_type": "execute_result"
    }
   ],
   "source": [
    "df_train.Sex.value_counts()"
   ]
  },
  {
   "cell_type": "code",
   "execution_count": 16,
   "id": "698825e6",
   "metadata": {},
   "outputs": [
    {
     "data": {
      "text/plain": [
       "S    644\n",
       "C    168\n",
       "Q     77\n",
       "Name: Embarked, dtype: int64"
      ]
     },
     "execution_count": 16,
     "metadata": {},
     "output_type": "execute_result"
    }
   ],
   "source": [
    "df_train.Embarked.value_counts()"
   ]
  },
  {
   "cell_type": "code",
   "execution_count": 17,
   "id": "83948a39",
   "metadata": {},
   "outputs": [
    {
     "data": {
      "text/plain": [
       "PassengerId      0\n",
       "Name             0\n",
       "Pclass           0\n",
       "Sex              0\n",
       "Age            177\n",
       "SibSp            0\n",
       "Parch            0\n",
       "Ticket           0\n",
       "Fare             0\n",
       "Cabin          687\n",
       "Embarked         2\n",
       "Survived         0\n",
       "dtype: int64"
      ]
     },
     "execution_count": 17,
     "metadata": {},
     "output_type": "execute_result"
    }
   ],
   "source": [
    "df_train.isnull().sum()"
   ]
  },
  {
   "cell_type": "code",
   "execution_count": 22,
   "id": "62c43c97",
   "metadata": {},
   "outputs": [],
   "source": [
    "df_train=df_train.drop(['PassengerId','Name','Ticket','Cabin'],axis=1)"
   ]
  },
  {
   "cell_type": "code",
   "execution_count": 23,
   "id": "03e73942",
   "metadata": {},
   "outputs": [
    {
     "data": {
      "text/html": [
       "<div>\n",
       "<style scoped>\n",
       "    .dataframe tbody tr th:only-of-type {\n",
       "        vertical-align: middle;\n",
       "    }\n",
       "\n",
       "    .dataframe tbody tr th {\n",
       "        vertical-align: top;\n",
       "    }\n",
       "\n",
       "    .dataframe thead th {\n",
       "        text-align: right;\n",
       "    }\n",
       "</style>\n",
       "<table border=\"1\" class=\"dataframe\">\n",
       "  <thead>\n",
       "    <tr style=\"text-align: right;\">\n",
       "      <th></th>\n",
       "      <th>Pclass</th>\n",
       "      <th>Sex</th>\n",
       "      <th>Age</th>\n",
       "      <th>SibSp</th>\n",
       "      <th>Parch</th>\n",
       "      <th>Fare</th>\n",
       "      <th>Embarked</th>\n",
       "      <th>Survived</th>\n",
       "    </tr>\n",
       "  </thead>\n",
       "  <tbody>\n",
       "    <tr>\n",
       "      <th>0</th>\n",
       "      <td>3</td>\n",
       "      <td>male</td>\n",
       "      <td>22.0</td>\n",
       "      <td>1</td>\n",
       "      <td>0</td>\n",
       "      <td>7.2500</td>\n",
       "      <td>S</td>\n",
       "      <td>0</td>\n",
       "    </tr>\n",
       "    <tr>\n",
       "      <th>1</th>\n",
       "      <td>1</td>\n",
       "      <td>female</td>\n",
       "      <td>38.0</td>\n",
       "      <td>1</td>\n",
       "      <td>0</td>\n",
       "      <td>71.2833</td>\n",
       "      <td>C</td>\n",
       "      <td>1</td>\n",
       "    </tr>\n",
       "    <tr>\n",
       "      <th>2</th>\n",
       "      <td>3</td>\n",
       "      <td>female</td>\n",
       "      <td>26.0</td>\n",
       "      <td>0</td>\n",
       "      <td>0</td>\n",
       "      <td>7.9250</td>\n",
       "      <td>S</td>\n",
       "      <td>1</td>\n",
       "    </tr>\n",
       "    <tr>\n",
       "      <th>3</th>\n",
       "      <td>1</td>\n",
       "      <td>female</td>\n",
       "      <td>35.0</td>\n",
       "      <td>1</td>\n",
       "      <td>0</td>\n",
       "      <td>53.1000</td>\n",
       "      <td>S</td>\n",
       "      <td>1</td>\n",
       "    </tr>\n",
       "    <tr>\n",
       "      <th>4</th>\n",
       "      <td>3</td>\n",
       "      <td>male</td>\n",
       "      <td>35.0</td>\n",
       "      <td>0</td>\n",
       "      <td>0</td>\n",
       "      <td>8.0500</td>\n",
       "      <td>S</td>\n",
       "      <td>0</td>\n",
       "    </tr>\n",
       "  </tbody>\n",
       "</table>\n",
       "</div>"
      ],
      "text/plain": [
       "   Pclass     Sex   Age  SibSp  Parch     Fare Embarked  Survived\n",
       "0       3    male  22.0      1      0   7.2500        S         0\n",
       "1       1  female  38.0      1      0  71.2833        C         1\n",
       "2       3  female  26.0      0      0   7.9250        S         1\n",
       "3       1  female  35.0      1      0  53.1000        S         1\n",
       "4       3    male  35.0      0      0   8.0500        S         0"
      ]
     },
     "execution_count": 23,
     "metadata": {},
     "output_type": "execute_result"
    }
   ],
   "source": [
    "df_train.head()"
   ]
  },
  {
   "cell_type": "code",
   "execution_count": 26,
   "id": "5576320a",
   "metadata": {},
   "outputs": [],
   "source": [
    "def age_approx(cols):\n",
    "    Age=cols[0]\n",
    "    Pclass=cols[1]\n",
    "    if pd.isnull(Age):\n",
    "        if Pclass==1:\n",
    "            return 37\n",
    "        if Pclass==2:\n",
    "            return 29\n",
    "        else:\n",
    "            return 24\n",
    "    else:\n",
    "        return Age"
   ]
  },
  {
   "cell_type": "code",
   "execution_count": 27,
   "id": "c31766f3",
   "metadata": {},
   "outputs": [],
   "source": [
    "df_train['Age']=df_train[['Age','Pclass']].apply(age_approx,axis=1)"
   ]
  },
  {
   "cell_type": "code",
   "execution_count": 28,
   "id": "818571ac",
   "metadata": {},
   "outputs": [
    {
     "data": {
      "text/plain": [
       "Pclass      0\n",
       "Sex         0\n",
       "Age         0\n",
       "SibSp       0\n",
       "Parch       0\n",
       "Fare        0\n",
       "Embarked    2\n",
       "Survived    0\n",
       "dtype: int64"
      ]
     },
     "execution_count": 28,
     "metadata": {},
     "output_type": "execute_result"
    }
   ],
   "source": [
    "df_train.isnull().sum()"
   ]
  },
  {
   "cell_type": "code",
   "execution_count": 30,
   "id": "a68c1e50",
   "metadata": {},
   "outputs": [
    {
     "data": {
      "text/plain": [
       "Pclass        int64\n",
       "Sex          object\n",
       "Age         float64\n",
       "SibSp         int64\n",
       "Parch         int64\n",
       "Fare        float64\n",
       "Embarked     object\n",
       "Survived      int64\n",
       "dtype: object"
      ]
     },
     "execution_count": 30,
     "metadata": {},
     "output_type": "execute_result"
    }
   ],
   "source": [
    "df_train.dtypes"
   ]
  },
  {
   "cell_type": "code",
   "execution_count": 31,
   "id": "00c735d8",
   "metadata": {},
   "outputs": [],
   "source": [
    "df_train_dummied=pd.get_dummies(df_train,columns=['Sex'])\n",
    "df_train_dummied=pd.get_dummies(df_train_dummied,columns=['Embarked'])"
   ]
  },
  {
   "cell_type": "code",
   "execution_count": 32,
   "id": "5b410f65",
   "metadata": {},
   "outputs": [
    {
     "data": {
      "text/html": [
       "<div>\n",
       "<style scoped>\n",
       "    .dataframe tbody tr th:only-of-type {\n",
       "        vertical-align: middle;\n",
       "    }\n",
       "\n",
       "    .dataframe tbody tr th {\n",
       "        vertical-align: top;\n",
       "    }\n",
       "\n",
       "    .dataframe thead th {\n",
       "        text-align: right;\n",
       "    }\n",
       "</style>\n",
       "<table border=\"1\" class=\"dataframe\">\n",
       "  <thead>\n",
       "    <tr style=\"text-align: right;\">\n",
       "      <th></th>\n",
       "      <th>Pclass</th>\n",
       "      <th>Age</th>\n",
       "      <th>SibSp</th>\n",
       "      <th>Parch</th>\n",
       "      <th>Fare</th>\n",
       "      <th>Survived</th>\n",
       "      <th>Sex_female</th>\n",
       "      <th>Sex_male</th>\n",
       "      <th>Embarked_C</th>\n",
       "      <th>Embarked_Q</th>\n",
       "      <th>Embarked_S</th>\n",
       "    </tr>\n",
       "  </thead>\n",
       "  <tbody>\n",
       "    <tr>\n",
       "      <th>0</th>\n",
       "      <td>3</td>\n",
       "      <td>22.0</td>\n",
       "      <td>1</td>\n",
       "      <td>0</td>\n",
       "      <td>7.2500</td>\n",
       "      <td>0</td>\n",
       "      <td>0</td>\n",
       "      <td>1</td>\n",
       "      <td>0</td>\n",
       "      <td>0</td>\n",
       "      <td>1</td>\n",
       "    </tr>\n",
       "    <tr>\n",
       "      <th>1</th>\n",
       "      <td>1</td>\n",
       "      <td>38.0</td>\n",
       "      <td>1</td>\n",
       "      <td>0</td>\n",
       "      <td>71.2833</td>\n",
       "      <td>1</td>\n",
       "      <td>1</td>\n",
       "      <td>0</td>\n",
       "      <td>1</td>\n",
       "      <td>0</td>\n",
       "      <td>0</td>\n",
       "    </tr>\n",
       "    <tr>\n",
       "      <th>2</th>\n",
       "      <td>3</td>\n",
       "      <td>26.0</td>\n",
       "      <td>0</td>\n",
       "      <td>0</td>\n",
       "      <td>7.9250</td>\n",
       "      <td>1</td>\n",
       "      <td>1</td>\n",
       "      <td>0</td>\n",
       "      <td>0</td>\n",
       "      <td>0</td>\n",
       "      <td>1</td>\n",
       "    </tr>\n",
       "    <tr>\n",
       "      <th>3</th>\n",
       "      <td>1</td>\n",
       "      <td>35.0</td>\n",
       "      <td>1</td>\n",
       "      <td>0</td>\n",
       "      <td>53.1000</td>\n",
       "      <td>1</td>\n",
       "      <td>1</td>\n",
       "      <td>0</td>\n",
       "      <td>0</td>\n",
       "      <td>0</td>\n",
       "      <td>1</td>\n",
       "    </tr>\n",
       "    <tr>\n",
       "      <th>4</th>\n",
       "      <td>3</td>\n",
       "      <td>35.0</td>\n",
       "      <td>0</td>\n",
       "      <td>0</td>\n",
       "      <td>8.0500</td>\n",
       "      <td>0</td>\n",
       "      <td>0</td>\n",
       "      <td>1</td>\n",
       "      <td>0</td>\n",
       "      <td>0</td>\n",
       "      <td>1</td>\n",
       "    </tr>\n",
       "  </tbody>\n",
       "</table>\n",
       "</div>"
      ],
      "text/plain": [
       "   Pclass   Age  SibSp  Parch     Fare  Survived  Sex_female  Sex_male  \\\n",
       "0       3  22.0      1      0   7.2500         0           0         1   \n",
       "1       1  38.0      1      0  71.2833         1           1         0   \n",
       "2       3  26.0      0      0   7.9250         1           1         0   \n",
       "3       1  35.0      1      0  53.1000         1           1         0   \n",
       "4       3  35.0      0      0   8.0500         0           0         1   \n",
       "\n",
       "   Embarked_C  Embarked_Q  Embarked_S  \n",
       "0           0           0           1  \n",
       "1           1           0           0  \n",
       "2           0           0           1  \n",
       "3           0           0           1  \n",
       "4           0           0           1  "
      ]
     },
     "execution_count": 32,
     "metadata": {},
     "output_type": "execute_result"
    }
   ],
   "source": [
    "df_train_dummied.head()"
   ]
  },
  {
   "cell_type": "code",
   "execution_count": 33,
   "id": "6d7bbf7e",
   "metadata": {},
   "outputs": [
    {
     "data": {
      "text/plain": [
       "<AxesSubplot: >"
      ]
     },
     "execution_count": 33,
     "metadata": {},
     "output_type": "execute_result"
    },
    {
     "data": {
      "image/png": "[encoded data removed]",
      "text/plain": [
       "<Figure size 600x400 with 2 Axes>"
      ]
     },
     "metadata": {},
     "output_type": "display_data"
    }
   ],
   "source": [
    "plt.figure(figsize=(6,4))\n",
    "sns.heatmap(df_train_dummied.corr())"
   ]
  },
  {
   "cell_type": "code",
   "execution_count": 36,
   "id": "45c5b045",
   "metadata": {},
   "outputs": [],
   "source": [
    "user_featurs=['Pclass','Age','SibSp','Parch','Sex_female','Sex_male','Embarked_C','Embarked_Q','Embarked_S']\n",
    "X=df_train_dummied[user_featurs].values\n",
    "y=df_train_dummied['Survived']"
   ]
  },
  {
   "cell_type": "code",
   "execution_count": 41,
   "id": "7c3094a3",
   "metadata": {},
   "outputs": [],
   "source": [
    "X_train,X_test,y_train,y_test=train_test_split(X,y,test_size=0.3,random_state=1)"
   ]
  },
  {
   "cell_type": "code",
   "execution_count": 42,
   "id": "4d9dd444",
   "metadata": {},
   "outputs": [
    {
     "name": "stdout",
     "output_type": "stream",
     "text": [
      "(623, 9)\n",
      "(268, 9)\n",
      "(623,)\n",
      "(623,)\n"
     ]
    }
   ],
   "source": [
    "print(X_train.shape)\n",
    "print(X_test.shape)\n",
    "print(y_train.shape)\n",
    "print(y_train.shape)\n"
   ]
  },
  {
   "cell_type": "code",
   "execution_count": 45,
   "id": "bbd5d311",
   "metadata": {},
   "outputs": [],
   "source": [
    "LogReg=LogisticRegression()"
   ]
  },
  {
   "cell_type": "code",
   "execution_count": 46,
   "id": "baecdca4",
   "metadata": {},
   "outputs": [
    {
     "name": "stderr",
     "output_type": "stream",
     "text": [
      "C:\\Users\\DELL\\anaconda3\\lib\\site-packages\\sklearn\\linear_model\\_logistic.py:814: ConvergenceWarning: lbfgs failed to converge (status=1):\n",
      "STOP: TOTAL NO. of ITERATIONS REACHED LIMIT.\n",
      "\n",
      "Increase the number of iterations (max_iter) or scale the data as shown in:\n",
      "    https://scikit-learn.org/stable/modules/preprocessing.html\n",
      "Please also refer to the documentation for alternative solver options:\n",
      "    https://scikit-learn.org/stable/modules/linear_model.html#logistic-regression\n",
      "  n_iter_i = _check_optimize_result(\n"
     ]
    },
    {
     "data": {
      "text/plain": [
       "LogisticRegression()"
      ]
     },
     "execution_count": 46,
     "metadata": {},
     "output_type": "execute_result"
    }
   ],
   "source": [
    "LogReg.fit(X_train,y_train)"
   ]
  },
  {
   "cell_type": "code",
   "execution_count": 47,
   "id": "8da50636",
   "metadata": {},
   "outputs": [],
   "source": [
    "y_pred=LogReg.predict(X_test)"
   ]
  },
  {
   "cell_type": "code",
   "execution_count": 48,
   "id": "d8b7c2bd",
   "metadata": {},
   "outputs": [
    {
     "data": {
      "text/plain": [
       "array([[132,  21],\n",
       "       [ 36,  79]], dtype=int64)"
      ]
     },
     "execution_count": 48,
     "metadata": {},
     "output_type": "execute_result"
    }
   ],
   "source": [
    "metrics.confusion_matrix(y_test,y_pred)"
   ]
  },
  {
   "cell_type": "code",
   "execution_count": 49,
   "id": "9c985c37",
   "metadata": {},
   "outputs": [
    {
     "data": {
      "text/plain": [
       "0.7873134328358209"
      ]
     },
     "execution_count": 49,
     "metadata": {},
     "output_type": "execute_result"
    }
   ],
   "source": [
    "metrics.accuracy_score(y_test,y_pred)"
   ]
  },
  {
   "cell_type": "code",
   "execution_count": 50,
   "id": "60170386",
   "metadata": {},
   "outputs": [
    {
     "data": {
      "text/plain": [
       "268"
      ]
     },
     "execution_count": 50,
     "metadata": {},
     "output_type": "execute_result"
    }
   ],
   "source": [
    "len(X_test)"
   ]
  },
  {
   "cell_type": "code",
   "execution_count": 51,
   "id": "dc0308ef",
   "metadata": {},
   "outputs": [
    {
     "name": "stdout",
     "output_type": "stream",
     "text": [
      "              precision    recall  f1-score   support\n",
      "\n",
      "           0       0.79      0.86      0.82       153\n",
      "           1       0.79      0.69      0.73       115\n",
      "\n",
      "    accuracy                           0.79       268\n",
      "   macro avg       0.79      0.77      0.78       268\n",
      "weighted avg       0.79      0.79      0.78       268\n",
      "\n"
     ]
    }
   ],
   "source": [
    "print(classification_report(y_test,y_pred))"
   ]
  },
  {
   "cell_type": "code",
   "execution_count": 58,
   "id": "4180fae7",
   "metadata": {},
   "outputs": [
    {
     "data": {
      "text/plain": [
       "array([[-1.17966481, -0.04084854, -0.34991769,  0.06574985,  1.4992833 ,\n",
       "        -1.29117591,  0.12158906, -0.03502442, -0.2757195 ]])"
      ]
     },
     "execution_count": 58,
     "metadata": {},
     "output_type": "execute_result"
    }
   ],
   "source": [
    "LogReg.coef_"
   ]
  },
  {
   "cell_type": "code",
   "execution_count": 53,
   "id": "66981e87",
   "metadata": {},
   "outputs": [
    {
     "data": {
      "text/plain": [
       "array([3.81412528])"
      ]
     },
     "execution_count": 53,
     "metadata": {},
     "output_type": "execute_result"
    }
   ],
   "source": [
    "LogReg.intercept_"
   ]
  },
  {
   "cell_type": "code",
   "execution_count": 56,
   "id": "3e074cc0",
   "metadata": {},
   "outputs": [
    {
     "data": {
      "text/plain": [
       "Index(['Pclass', 'Age', 'SibSp', 'Parch', 'Sex_female', 'Sex_male',\n",
       "       'Embarked_C', 'Embarked_Q', 'Embarked_S'],\n",
       "      dtype='object')"
      ]
     },
     "execution_count": 56,
     "metadata": {},
     "output_type": "execute_result"
    }
   ],
   "source": [
    "df_train_dummied[user_featurs].columns"
   ]
  },
  {
   "cell_type": "code",
   "execution_count": 57,
   "id": "1a7a0a56",
   "metadata": {},
   "outputs": [
    {
     "data": {
      "text/plain": [
       "array([[0.13041499, 0.86958501],\n",
       "       [0.90654236, 0.09345764],\n",
       "       [0.12090006, 0.87909994],\n",
       "       [0.31885802, 0.68114198],\n",
       "       [0.07419826, 0.92580174],\n",
       "       [0.89562988, 0.10437012],\n",
       "       [0.81329615, 0.18670385],\n",
       "       [0.11121325, 0.88878675],\n",
       "       [0.50720027, 0.49279973],\n",
       "       [0.39912623, 0.60087377],\n",
       "       [0.90994618, 0.09005382],\n",
       "       [0.39254362, 0.60745638],\n",
       "       [0.75735927, 0.24264073],\n",
       "       [0.78528031, 0.21471969],\n",
       "       [0.31885802, 0.68114198],\n",
       "       [0.51903928, 0.48096072],\n",
       "       [0.93204297, 0.06795703],\n",
       "       [0.93226709, 0.06773291],\n",
       "       [0.94060492, 0.05939508],\n",
       "       [0.23229298, 0.76770702],\n",
       "       [0.93079189, 0.06920811],\n",
       "       [0.90940864, 0.09059136],\n",
       "       [0.03643999, 0.96356001],\n",
       "       [0.70001586, 0.29998414],\n",
       "       [0.27812492, 0.72187508],\n",
       "       [0.91642035, 0.08357965],\n",
       "       [0.05576767, 0.94423233],\n",
       "       [0.27633375, 0.72366625],\n",
       "       [0.76389644, 0.23610356],\n",
       "       [0.04929616, 0.95070384],\n",
       "       [0.35433755, 0.64566245],\n",
       "       [0.60917145, 0.39082855],\n",
       "       [0.52885956, 0.47114044],\n",
       "       [0.46815229, 0.53184771],\n",
       "       [0.9373466 , 0.0626534 ],\n",
       "       [0.49343015, 0.50656985],\n",
       "       [0.59940396, 0.40059604],\n",
       "       [0.90654236, 0.09345764],\n",
       "       [0.47658152, 0.52341848],\n",
       "       [0.89174931, 0.10825069],\n",
       "       [0.40232566, 0.59767434],\n",
       "       [0.37115061, 0.62884939],\n",
       "       [0.16057241, 0.83942759],\n",
       "       [0.68805531, 0.31194469],\n",
       "       [0.40712581, 0.59287419],\n",
       "       [0.93828133, 0.06171867],\n",
       "       [0.9664044 , 0.0335956 ],\n",
       "       [0.84621171, 0.15378829],\n",
       "       [0.49120719, 0.50879281],\n",
       "       [0.68258486, 0.31741514],\n",
       "       [0.71082593, 0.28917407],\n",
       "       [0.13936907, 0.86063093],\n",
       "       [0.70852311, 0.29147689],\n",
       "       [0.82957908, 0.17042092],\n",
       "       [0.92246873, 0.07753127],\n",
       "       [0.45799621, 0.54200379],\n",
       "       [0.78528031, 0.21471969],\n",
       "       [0.80599532, 0.19400468],\n",
       "       [0.94814352, 0.05185648],\n",
       "       [0.33587665, 0.66412335],\n",
       "       [0.89562317, 0.10437683],\n",
       "       [0.86701511, 0.13298489],\n",
       "       [0.76676054, 0.23323946],\n",
       "       [0.6836548 , 0.3163452 ],\n",
       "       [0.59514187, 0.40485813],\n",
       "       [0.30092534, 0.69907466],\n",
       "       [0.88033376, 0.11966624],\n",
       "       [0.87615562, 0.12384438],\n",
       "       [0.1850128 , 0.8149872 ],\n",
       "       [0.89592591, 0.10407409],\n",
       "       [0.9512914 , 0.0487086 ],\n",
       "       [0.96074254, 0.03925746],\n",
       "       [0.60208472, 0.39791528],\n",
       "       [0.90654236, 0.09345764],\n",
       "       [0.41338414, 0.58661586],\n",
       "       [0.77993089, 0.22006911],\n",
       "       [0.11121325, 0.88878675],\n",
       "       [0.88405818, 0.11594182],\n",
       "       [0.71184086, 0.28815914],\n",
       "       [0.03899869, 0.96100131],\n",
       "       [0.9132379 , 0.0867621 ],\n",
       "       [0.99289602, 0.00710398],\n",
       "       [0.90654236, 0.09345764],\n",
       "       [0.93587303, 0.06412697],\n",
       "       [0.10563241, 0.89436759],\n",
       "       [0.92246873, 0.07753127],\n",
       "       [0.90654236, 0.09345764],\n",
       "       [0.86701511, 0.13298489],\n",
       "       [0.50364184, 0.49635816],\n",
       "       [0.40055568, 0.59944432],\n",
       "       [0.70105278, 0.29894722],\n",
       "       [0.86701511, 0.13298489],\n",
       "       [0.88817989, 0.11182011],\n",
       "       [0.31885802, 0.68114198],\n",
       "       [0.90654236, 0.09345764],\n",
       "       [0.4404299 , 0.5595701 ],\n",
       "       [0.97591599, 0.02408401],\n",
       "       [0.28584745, 0.71415255],\n",
       "       [0.88774254, 0.11225746],\n",
       "       [0.90654236, 0.09345764],\n",
       "       [0.51162846, 0.48837154],\n",
       "       [0.61885222, 0.38114778],\n",
       "       [0.89650576, 0.10349424],\n",
       "       [0.22679821, 0.77320179],\n",
       "       [0.02490403, 0.97509597],\n",
       "       [0.90302359, 0.09697641],\n",
       "       [0.92246873, 0.07753127],\n",
       "       [0.92246873, 0.07753127],\n",
       "       [0.94841813, 0.05158187],\n",
       "       [0.95290746, 0.04709254],\n",
       "       [0.70819265, 0.29180735],\n",
       "       [0.85730984, 0.14269016],\n",
       "       [0.88823417, 0.11176583],\n",
       "       [0.93480137, 0.06519863],\n",
       "       [0.74108511, 0.25891489],\n",
       "       [0.93337743, 0.06662257],\n",
       "       [0.83843439, 0.16156561],\n",
       "       [0.63382401, 0.36617599],\n",
       "       [0.29777944, 0.70222056],\n",
       "       [0.44216255, 0.55783745],\n",
       "       [0.23421127, 0.76578873],\n",
       "       [0.79260941, 0.20739059],\n",
       "       [0.90654236, 0.09345764],\n",
       "       [0.70001586, 0.29998414],\n",
       "       [0.06161706, 0.93838294],\n",
       "       [0.04385998, 0.95614002],\n",
       "       [0.17732158, 0.82267842],\n",
       "       [0.35433755, 0.64566245],\n",
       "       [0.99289602, 0.00710398],\n",
       "       [0.88405818, 0.11594182],\n",
       "       [0.90654236, 0.09345764],\n",
       "       [0.95644089, 0.04355911],\n",
       "       [0.22595725, 0.77404275],\n",
       "       [0.41048443, 0.58951557],\n",
       "       [0.71075632, 0.28924368],\n",
       "       [0.13168776, 0.86831224],\n",
       "       [0.03717446, 0.96282554],\n",
       "       [0.95029665, 0.04970335],\n",
       "       [0.91505311, 0.08494689],\n",
       "       [0.36373761, 0.63626239],\n",
       "       [0.06796403, 0.93203597],\n",
       "       [0.94709279, 0.05290721],\n",
       "       [0.0444583 , 0.9555417 ],\n",
       "       [0.37324287, 0.62675713],\n",
       "       [0.90654236, 0.09345764],\n",
       "       [0.39807239, 0.60192761],\n",
       "       [0.79873461, 0.20126539],\n",
       "       [0.90654236, 0.09345764],\n",
       "       [0.3834226 , 0.6165774 ],\n",
       "       [0.89938704, 0.10061296],\n",
       "       [0.1850128 , 0.8149872 ],\n",
       "       [0.96419972, 0.03580028],\n",
       "       [0.92177324, 0.07822676],\n",
       "       [0.30138276, 0.69861724],\n",
       "       [0.90654236, 0.09345764],\n",
       "       [0.93079189, 0.06920811],\n",
       "       [0.89938704, 0.10061296],\n",
       "       [0.95290746, 0.04709254],\n",
       "       [0.16481359, 0.83518641],\n",
       "       [0.74108511, 0.25891489],\n",
       "       [0.87797726, 0.12202274],\n",
       "       [0.91949635, 0.08050365],\n",
       "       [0.34504869, 0.65495131],\n",
       "       [0.51903928, 0.48096072],\n",
       "       [0.95494036, 0.04505964],\n",
       "       [0.28224405, 0.71775595],\n",
       "       [0.25656314, 0.74343686],\n",
       "       [0.90654236, 0.09345764],\n",
       "       [0.87493775, 0.12506225],\n",
       "       [0.6841353 , 0.3158647 ],\n",
       "       [0.05595458, 0.94404542],\n",
       "       [0.46286189, 0.53713811],\n",
       "       [0.06707157, 0.93292843],\n",
       "       [0.90980088, 0.09019912],\n",
       "       [0.13511784, 0.86488216],\n",
       "       [0.60917145, 0.39082855],\n",
       "       [0.88405818, 0.11594182],\n",
       "       [0.87089425, 0.12910575],\n",
       "       [0.25775402, 0.74224598],\n",
       "       [0.93884678, 0.06115322],\n",
       "       [0.04609425, 0.95390575],\n",
       "       [0.21593589, 0.78406411],\n",
       "       [0.84154307, 0.15845693],\n",
       "       [0.93368413, 0.06631587],\n",
       "       [0.06456032, 0.93543968],\n",
       "       [0.70001586, 0.29998414],\n",
       "       [0.90654236, 0.09345764],\n",
       "       [0.04965512, 0.95034488],\n",
       "       [0.88405818, 0.11594182],\n",
       "       [0.07885569, 0.92114431],\n",
       "       [0.60917145, 0.39082855],\n",
       "       [0.6836548 , 0.3163452 ],\n",
       "       [0.31885802, 0.68114198],\n",
       "       [0.21699324, 0.78300676],\n",
       "       [0.22370602, 0.77629398],\n",
       "       [0.07033862, 0.92966138],\n",
       "       [0.78528031, 0.21471969],\n",
       "       [0.12985547, 0.87014453],\n",
       "       [0.90825846, 0.09174154],\n",
       "       [0.80773702, 0.19226298],\n",
       "       [0.87933944, 0.12066056],\n",
       "       [0.27027723, 0.72972277],\n",
       "       [0.86701511, 0.13298489],\n",
       "       [0.6579805 , 0.3420195 ],\n",
       "       [0.67436593, 0.32563407],\n",
       "       [0.15472737, 0.84527263],\n",
       "       [0.19390531, 0.80609469],\n",
       "       [0.75644981, 0.24355019],\n",
       "       [0.60917145, 0.39082855],\n",
       "       [0.97077289, 0.02922711],\n",
       "       [0.04982262, 0.95017738],\n",
       "       [0.93838932, 0.06161068],\n",
       "       [0.88681766, 0.11318234],\n",
       "       [0.7931125 , 0.2068875 ],\n",
       "       [0.8543545 , 0.1456455 ],\n",
       "       [0.93828133, 0.06171867],\n",
       "       [0.88405818, 0.11594182],\n",
       "       [0.03875424, 0.96124576],\n",
       "       [0.1881834 , 0.8118166 ],\n",
       "       [0.77205527, 0.22794473],\n",
       "       [0.60917145, 0.39082855],\n",
       "       [0.86701511, 0.13298489],\n",
       "       [0.74203238, 0.25796762],\n",
       "       [0.73066343, 0.26933657],\n",
       "       [0.91539421, 0.08460579],\n",
       "       [0.70819265, 0.29180735],\n",
       "       [0.04191499, 0.95808501],\n",
       "       [0.51461454, 0.48538546],\n",
       "       [0.22696451, 0.77303549],\n",
       "       [0.69732606, 0.30267394],\n",
       "       [0.61726715, 0.38273285],\n",
       "       [0.84999427, 0.15000573],\n",
       "       [0.6996985 , 0.3003015 ],\n",
       "       [0.81771612, 0.18228388],\n",
       "       [0.94500817, 0.05499183],\n",
       "       [0.36222485, 0.63777515],\n",
       "       [0.42557905, 0.57442095],\n",
       "       [0.29100159, 0.70899841],\n",
       "       [0.2886503 , 0.7113497 ],\n",
       "       [0.92692254, 0.07307746],\n",
       "       [0.94517272, 0.05482728],\n",
       "       [0.84365804, 0.15634196],\n",
       "       [0.89282352, 0.10717648],\n",
       "       [0.93079189, 0.06920811],\n",
       "       [0.95361794, 0.04638206],\n",
       "       [0.92811374, 0.07188626],\n",
       "       [0.18335926, 0.81664074],\n",
       "       [0.21593589, 0.78406411],\n",
       "       [0.64901292, 0.35098708],\n",
       "       [0.08311172, 0.91688828],\n",
       "       [0.9510401 , 0.0489599 ],\n",
       "       [0.90340788, 0.09659212],\n",
       "       [0.67981025, 0.32018975],\n",
       "       [0.40135723, 0.59864277],\n",
       "       [0.17442878, 0.82557122],\n",
       "       [0.26813292, 0.73186708],\n",
       "       [0.76654621, 0.23345379],\n",
       "       [0.26029844, 0.73970156],\n",
       "       [0.84058299, 0.15941701],\n",
       "       [0.44699875, 0.55300125],\n",
       "       [0.09858218, 0.90141782],\n",
       "       [0.91539421, 0.08460579],\n",
       "       [0.31885802, 0.68114198],\n",
       "       [0.13829853, 0.86170147],\n",
       "       [0.77118425, 0.22881575],\n",
       "       [0.81154819, 0.18845181],\n",
       "       [0.47658152, 0.52341848],\n",
       "       [0.76158434, 0.23841566]])"
      ]
     },
     "execution_count": 57,
     "metadata": {},
     "output_type": "execute_result"
    }
   ],
   "source": [
    "LogReg.predict_proba(X_test)"
   ]
  },
  {
   "cell_type": "code",
   "execution_count": null,
   "id": "b811b655",
   "metadata": {},
   "outputs": [],
   "source": []
  }
 ],
 "metadata": {
  "kernelspec": {
   "display_name": "Python 3 (ipykernel)",
   "language": "python",
   "name": "python3"
  },
  "language_info": {
   "codemirror_mode": {
    "name": "ipython",
    "version": 3
   },
   "file_extension": ".py",
   "mimetype": "text/x-python",
   "name": "python",
   "nbconvert_exporter": "python",
   "pygments_lexer": "ipython3",
   "version": "3.9.12"
  }
 },
 "nbformat": 4,
 "nbformat_minor": 5
}
