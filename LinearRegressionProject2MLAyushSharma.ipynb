{
 "cells": [
  {
   "cell_type": "code",
   "execution_count": 2,
   "id": "5d4f2ed1",
   "metadata": {},
   "outputs": [],
   "source": [
    "import pandas as pd\n",
    "import numpy as np\n",
    "from sklearn.preprocessing import LabelEncoder\n",
    "from sklearn.linear_model import LinearRegression\n",
    "from sklearn.metrics import r2_score,mean_squared_error\n",
    "import matplotlib.pyplot as plt\n",
    "%matplotlib inline"
   ]
  },
  {
   "cell_type": "code",
   "execution_count": 3,
   "id": "6c0e3b47",
   "metadata": {},
   "outputs": [],
   "source": [
    "train=pd.read_csv(r'C:\\Users\\DELL\\Downloads\\train.csv')\n",
    "test=pd.read_csv(r'C:\\Users\\DELL\\Downloads\\test.csv')"
   ]
  },
  {
   "cell_type": "code",
   "execution_count": 4,
   "id": "6b4de5f8",
   "metadata": {},
   "outputs": [
    {
     "data": {
      "text/plain": [
       "(8523, 12)"
      ]
     },
     "execution_count": 4,
     "metadata": {},
     "output_type": "execute_result"
    }
   ],
   "source": [
    "train.shape"
   ]
  },
  {
   "cell_type": "code",
   "execution_count": 5,
   "id": "fe8f49e5",
   "metadata": {},
   "outputs": [
    {
     "data": {
      "text/plain": [
       "Index(['Item_Identifier', 'Item_Weight', 'Item_Fat_Content', 'Item_Visibility',\n",
       "       'Item_Type', 'Item_MRP', 'Outlet_Identifier',\n",
       "       'Outlet_Establishment_Year', 'Outlet_Size', 'Outlet_Location_Type',\n",
       "       'Outlet_Type', 'Item_Outlet_Sales'],\n",
       "      dtype='object')"
      ]
     },
     "execution_count": 5,
     "metadata": {},
     "output_type": "execute_result"
    }
   ],
   "source": [
    "train.columns"
   ]
  },
  {
   "cell_type": "code",
   "execution_count": 6,
   "id": "5025c149",
   "metadata": {},
   "outputs": [
    {
     "data": {
      "text/plain": [
       "(5681, 11)"
      ]
     },
     "execution_count": 6,
     "metadata": {},
     "output_type": "execute_result"
    }
   ],
   "source": [
    "test.shape"
   ]
  },
  {
   "cell_type": "code",
   "execution_count": 7,
   "id": "f09dfb3f",
   "metadata": {},
   "outputs": [
    {
     "data": {
      "text/plain": [
       "Index(['Item_Identifier', 'Item_Weight', 'Item_Fat_Content', 'Item_Visibility',\n",
       "       'Item_Type', 'Item_MRP', 'Outlet_Identifier',\n",
       "       'Outlet_Establishment_Year', 'Outlet_Size', 'Outlet_Location_Type',\n",
       "       'Outlet_Type'],\n",
       "      dtype='object')"
      ]
     },
     "execution_count": 7,
     "metadata": {},
     "output_type": "execute_result"
    }
   ],
   "source": [
    "test.columns"
   ]
  },
  {
   "cell_type": "code",
   "execution_count": 8,
   "id": "86d99d0b",
   "metadata": {},
   "outputs": [
    {
     "name": "stdout",
     "output_type": "stream",
     "text": [
      "(14204, 13)\n"
     ]
    }
   ],
   "source": [
    "train['Source']='train'\n",
    "test['Source']='test'\n",
    "dt=pd.concat([train,test],ignore_index=True)\n",
    "print(dt.shape)"
   ]
  },
  {
   "cell_type": "code",
   "execution_count": 9,
   "id": "64d6e055",
   "metadata": {},
   "outputs": [
    {
     "data": {
      "text/html": [
       "<div>\n",
       "<style scoped>\n",
       "    .dataframe tbody tr th:only-of-type {\n",
       "        vertical-align: middle;\n",
       "    }\n",
       "\n",
       "    .dataframe tbody tr th {\n",
       "        vertical-align: top;\n",
       "    }\n",
       "\n",
       "    .dataframe thead th {\n",
       "        text-align: right;\n",
       "    }\n",
       "</style>\n",
       "<table border=\"1\" class=\"dataframe\">\n",
       "  <thead>\n",
       "    <tr style=\"text-align: right;\">\n",
       "      <th></th>\n",
       "      <th>Item_Identifier</th>\n",
       "      <th>Item_Weight</th>\n",
       "      <th>Item_Fat_Content</th>\n",
       "      <th>Item_Visibility</th>\n",
       "      <th>Item_Type</th>\n",
       "      <th>Item_MRP</th>\n",
       "      <th>Outlet_Identifier</th>\n",
       "      <th>Outlet_Establishment_Year</th>\n",
       "      <th>Outlet_Size</th>\n",
       "      <th>Outlet_Location_Type</th>\n",
       "      <th>Outlet_Type</th>\n",
       "      <th>Item_Outlet_Sales</th>\n",
       "      <th>Source</th>\n",
       "    </tr>\n",
       "  </thead>\n",
       "  <tbody>\n",
       "    <tr>\n",
       "      <th>0</th>\n",
       "      <td>FDA15</td>\n",
       "      <td>9.30</td>\n",
       "      <td>Low Fat</td>\n",
       "      <td>0.016047</td>\n",
       "      <td>Dairy</td>\n",
       "      <td>249.8092</td>\n",
       "      <td>OUT049</td>\n",
       "      <td>1999</td>\n",
       "      <td>Medium</td>\n",
       "      <td>Tier 1</td>\n",
       "      <td>Supermarket Type1</td>\n",
       "      <td>3735.1380</td>\n",
       "      <td>train</td>\n",
       "    </tr>\n",
       "    <tr>\n",
       "      <th>1</th>\n",
       "      <td>DRC01</td>\n",
       "      <td>5.92</td>\n",
       "      <td>Regular</td>\n",
       "      <td>0.019278</td>\n",
       "      <td>Soft Drinks</td>\n",
       "      <td>48.2692</td>\n",
       "      <td>OUT018</td>\n",
       "      <td>2009</td>\n",
       "      <td>Medium</td>\n",
       "      <td>Tier 3</td>\n",
       "      <td>Supermarket Type2</td>\n",
       "      <td>443.4228</td>\n",
       "      <td>train</td>\n",
       "    </tr>\n",
       "    <tr>\n",
       "      <th>2</th>\n",
       "      <td>FDN15</td>\n",
       "      <td>17.50</td>\n",
       "      <td>Low Fat</td>\n",
       "      <td>0.016760</td>\n",
       "      <td>Meat</td>\n",
       "      <td>141.6180</td>\n",
       "      <td>OUT049</td>\n",
       "      <td>1999</td>\n",
       "      <td>Medium</td>\n",
       "      <td>Tier 1</td>\n",
       "      <td>Supermarket Type1</td>\n",
       "      <td>2097.2700</td>\n",
       "      <td>train</td>\n",
       "    </tr>\n",
       "    <tr>\n",
       "      <th>3</th>\n",
       "      <td>FDX07</td>\n",
       "      <td>19.20</td>\n",
       "      <td>Regular</td>\n",
       "      <td>0.000000</td>\n",
       "      <td>Fruits and Vegetables</td>\n",
       "      <td>182.0950</td>\n",
       "      <td>OUT010</td>\n",
       "      <td>1998</td>\n",
       "      <td>NaN</td>\n",
       "      <td>Tier 3</td>\n",
       "      <td>Grocery Store</td>\n",
       "      <td>732.3800</td>\n",
       "      <td>train</td>\n",
       "    </tr>\n",
       "    <tr>\n",
       "      <th>4</th>\n",
       "      <td>NCD19</td>\n",
       "      <td>8.93</td>\n",
       "      <td>Low Fat</td>\n",
       "      <td>0.000000</td>\n",
       "      <td>Household</td>\n",
       "      <td>53.8614</td>\n",
       "      <td>OUT013</td>\n",
       "      <td>1987</td>\n",
       "      <td>High</td>\n",
       "      <td>Tier 3</td>\n",
       "      <td>Supermarket Type1</td>\n",
       "      <td>994.7052</td>\n",
       "      <td>train</td>\n",
       "    </tr>\n",
       "  </tbody>\n",
       "</table>\n",
       "</div>"
      ],
      "text/plain": [
       "  Item_Identifier  Item_Weight Item_Fat_Content  Item_Visibility  \\\n",
       "0           FDA15         9.30          Low Fat         0.016047   \n",
       "1           DRC01         5.92          Regular         0.019278   \n",
       "2           FDN15        17.50          Low Fat         0.016760   \n",
       "3           FDX07        19.20          Regular         0.000000   \n",
       "4           NCD19         8.93          Low Fat         0.000000   \n",
       "\n",
       "               Item_Type  Item_MRP Outlet_Identifier  \\\n",
       "0                  Dairy  249.8092            OUT049   \n",
       "1            Soft Drinks   48.2692            OUT018   \n",
       "2                   Meat  141.6180            OUT049   \n",
       "3  Fruits and Vegetables  182.0950            OUT010   \n",
       "4              Household   53.8614            OUT013   \n",
       "\n",
       "   Outlet_Establishment_Year Outlet_Size Outlet_Location_Type  \\\n",
       "0                       1999      Medium               Tier 1   \n",
       "1                       2009      Medium               Tier 3   \n",
       "2                       1999      Medium               Tier 1   \n",
       "3                       1998         NaN               Tier 3   \n",
       "4                       1987        High               Tier 3   \n",
       "\n",
       "         Outlet_Type  Item_Outlet_Sales Source  \n",
       "0  Supermarket Type1          3735.1380  train  \n",
       "1  Supermarket Type2           443.4228  train  \n",
       "2  Supermarket Type1          2097.2700  train  \n",
       "3      Grocery Store           732.3800  train  \n",
       "4  Supermarket Type1           994.7052  train  "
      ]
     },
     "execution_count": 9,
     "metadata": {},
     "output_type": "execute_result"
    }
   ],
   "source": [
    "dt.head()"
   ]
  },
  {
   "cell_type": "code",
   "execution_count": 10,
   "id": "c05433b6",
   "metadata": {},
   "outputs": [
    {
     "data": {
      "text/html": [
       "<div>\n",
       "<style scoped>\n",
       "    .dataframe tbody tr th:only-of-type {\n",
       "        vertical-align: middle;\n",
       "    }\n",
       "\n",
       "    .dataframe tbody tr th {\n",
       "        vertical-align: top;\n",
       "    }\n",
       "\n",
       "    .dataframe thead th {\n",
       "        text-align: right;\n",
       "    }\n",
       "</style>\n",
       "<table border=\"1\" class=\"dataframe\">\n",
       "  <thead>\n",
       "    <tr style=\"text-align: right;\">\n",
       "      <th></th>\n",
       "      <th>Item_Weight</th>\n",
       "      <th>Item_Visibility</th>\n",
       "      <th>Item_MRP</th>\n",
       "      <th>Outlet_Establishment_Year</th>\n",
       "      <th>Item_Outlet_Sales</th>\n",
       "    </tr>\n",
       "  </thead>\n",
       "  <tbody>\n",
       "    <tr>\n",
       "      <th>count</th>\n",
       "      <td>11765.000000</td>\n",
       "      <td>14204.000000</td>\n",
       "      <td>14204.000000</td>\n",
       "      <td>14204.000000</td>\n",
       "      <td>8523.000000</td>\n",
       "    </tr>\n",
       "    <tr>\n",
       "      <th>mean</th>\n",
       "      <td>12.792854</td>\n",
       "      <td>0.065953</td>\n",
       "      <td>141.004977</td>\n",
       "      <td>1997.830681</td>\n",
       "      <td>2181.288914</td>\n",
       "    </tr>\n",
       "    <tr>\n",
       "      <th>std</th>\n",
       "      <td>4.652502</td>\n",
       "      <td>0.051459</td>\n",
       "      <td>62.086938</td>\n",
       "      <td>8.371664</td>\n",
       "      <td>1706.499616</td>\n",
       "    </tr>\n",
       "    <tr>\n",
       "      <th>min</th>\n",
       "      <td>4.555000</td>\n",
       "      <td>0.000000</td>\n",
       "      <td>31.290000</td>\n",
       "      <td>1985.000000</td>\n",
       "      <td>33.290000</td>\n",
       "    </tr>\n",
       "    <tr>\n",
       "      <th>25%</th>\n",
       "      <td>8.710000</td>\n",
       "      <td>0.027036</td>\n",
       "      <td>94.012000</td>\n",
       "      <td>1987.000000</td>\n",
       "      <td>834.247400</td>\n",
       "    </tr>\n",
       "    <tr>\n",
       "      <th>50%</th>\n",
       "      <td>12.600000</td>\n",
       "      <td>0.054021</td>\n",
       "      <td>142.247000</td>\n",
       "      <td>1999.000000</td>\n",
       "      <td>1794.331000</td>\n",
       "    </tr>\n",
       "    <tr>\n",
       "      <th>75%</th>\n",
       "      <td>16.750000</td>\n",
       "      <td>0.094037</td>\n",
       "      <td>185.855600</td>\n",
       "      <td>2004.000000</td>\n",
       "      <td>3101.296400</td>\n",
       "    </tr>\n",
       "    <tr>\n",
       "      <th>max</th>\n",
       "      <td>21.350000</td>\n",
       "      <td>0.328391</td>\n",
       "      <td>266.888400</td>\n",
       "      <td>2009.000000</td>\n",
       "      <td>13086.964800</td>\n",
       "    </tr>\n",
       "  </tbody>\n",
       "</table>\n",
       "</div>"
      ],
      "text/plain": [
       "        Item_Weight  Item_Visibility      Item_MRP  Outlet_Establishment_Year  \\\n",
       "count  11765.000000     14204.000000  14204.000000               14204.000000   \n",
       "mean      12.792854         0.065953    141.004977                1997.830681   \n",
       "std        4.652502         0.051459     62.086938                   8.371664   \n",
       "min        4.555000         0.000000     31.290000                1985.000000   \n",
       "25%        8.710000         0.027036     94.012000                1987.000000   \n",
       "50%       12.600000         0.054021    142.247000                1999.000000   \n",
       "75%       16.750000         0.094037    185.855600                2004.000000   \n",
       "max       21.350000         0.328391    266.888400                2009.000000   \n",
       "\n",
       "       Item_Outlet_Sales  \n",
       "count        8523.000000  \n",
       "mean         2181.288914  \n",
       "std          1706.499616  \n",
       "min            33.290000  \n",
       "25%           834.247400  \n",
       "50%          1794.331000  \n",
       "75%          3101.296400  \n",
       "max         13086.964800  "
      ]
     },
     "execution_count": 10,
     "metadata": {},
     "output_type": "execute_result"
    }
   ],
   "source": [
    "dt.describe()"
   ]
  },
  {
   "cell_type": "code",
   "execution_count": 11,
   "id": "fc350b99",
   "metadata": {},
   "outputs": [
    {
     "data": {
      "text/plain": [
       "Item_Identifier                 0\n",
       "Item_Weight                  2439\n",
       "Item_Fat_Content                0\n",
       "Item_Visibility                 0\n",
       "Item_Type                       0\n",
       "Item_MRP                        0\n",
       "Outlet_Identifier               0\n",
       "Outlet_Establishment_Year       0\n",
       "Outlet_Size                  4016\n",
       "Outlet_Location_Type            0\n",
       "Outlet_Type                     0\n",
       "Item_Outlet_Sales            5681\n",
       "Source                          0\n",
       "dtype: int64"
      ]
     },
     "execution_count": 11,
     "metadata": {},
     "output_type": "execute_result"
    }
   ],
   "source": [
    "dt.isnull().sum()"
   ]
  },
  {
   "cell_type": "code",
   "execution_count": 12,
   "id": "744cc006",
   "metadata": {},
   "outputs": [
    {
     "data": {
      "text/plain": [
       "array(['Low Fat', 'Regular', 'low fat', 'LF', 'reg'], dtype=object)"
      ]
     },
     "execution_count": 12,
     "metadata": {},
     "output_type": "execute_result"
    }
   ],
   "source": [
    "dt['Item_Fat_Content'].unique()"
   ]
  },
  {
   "cell_type": "code",
   "execution_count": 13,
   "id": "af73dcbd",
   "metadata": {},
   "outputs": [
    {
     "data": {
      "text/plain": [
       "array([1999, 2009, 1998, 1987, 1985, 2002, 2007, 1997, 2004], dtype=int64)"
      ]
     },
     "execution_count": 13,
     "metadata": {},
     "output_type": "execute_result"
    }
   ],
   "source": [
    "dt['Outlet_Establishment_Year'].unique()"
   ]
  },
  {
   "cell_type": "code",
   "execution_count": 14,
   "id": "1d27256a",
   "metadata": {},
   "outputs": [
    {
     "data": {
      "text/html": [
       "<div>\n",
       "<style scoped>\n",
       "    .dataframe tbody tr th:only-of-type {\n",
       "        vertical-align: middle;\n",
       "    }\n",
       "\n",
       "    .dataframe tbody tr th {\n",
       "        vertical-align: top;\n",
       "    }\n",
       "\n",
       "    .dataframe thead th {\n",
       "        text-align: right;\n",
       "    }\n",
       "</style>\n",
       "<table border=\"1\" class=\"dataframe\">\n",
       "  <thead>\n",
       "    <tr style=\"text-align: right;\">\n",
       "      <th></th>\n",
       "      <th>Item_Identifier</th>\n",
       "      <th>Item_Weight</th>\n",
       "      <th>Item_Fat_Content</th>\n",
       "      <th>Item_Visibility</th>\n",
       "      <th>Item_Type</th>\n",
       "      <th>Item_MRP</th>\n",
       "      <th>Outlet_Identifier</th>\n",
       "      <th>Outlet_Establishment_Year</th>\n",
       "      <th>Outlet_Size</th>\n",
       "      <th>Outlet_Location_Type</th>\n",
       "      <th>Outlet_Type</th>\n",
       "      <th>Item_Outlet_Sales</th>\n",
       "      <th>Source</th>\n",
       "      <th>outletAge</th>\n",
       "    </tr>\n",
       "  </thead>\n",
       "  <tbody>\n",
       "    <tr>\n",
       "      <th>0</th>\n",
       "      <td>FDA15</td>\n",
       "      <td>9.30</td>\n",
       "      <td>Low Fat</td>\n",
       "      <td>0.016047</td>\n",
       "      <td>Dairy</td>\n",
       "      <td>249.8092</td>\n",
       "      <td>OUT049</td>\n",
       "      <td>1999</td>\n",
       "      <td>Medium</td>\n",
       "      <td>Tier 1</td>\n",
       "      <td>Supermarket Type1</td>\n",
       "      <td>3735.1380</td>\n",
       "      <td>train</td>\n",
       "      <td>19</td>\n",
       "    </tr>\n",
       "    <tr>\n",
       "      <th>1</th>\n",
       "      <td>DRC01</td>\n",
       "      <td>5.92</td>\n",
       "      <td>Regular</td>\n",
       "      <td>0.019278</td>\n",
       "      <td>Soft Drinks</td>\n",
       "      <td>48.2692</td>\n",
       "      <td>OUT018</td>\n",
       "      <td>2009</td>\n",
       "      <td>Medium</td>\n",
       "      <td>Tier 3</td>\n",
       "      <td>Supermarket Type2</td>\n",
       "      <td>443.4228</td>\n",
       "      <td>train</td>\n",
       "      <td>9</td>\n",
       "    </tr>\n",
       "  </tbody>\n",
       "</table>\n",
       "</div>"
      ],
      "text/plain": [
       "  Item_Identifier  Item_Weight Item_Fat_Content  Item_Visibility    Item_Type  \\\n",
       "0           FDA15         9.30          Low Fat         0.016047        Dairy   \n",
       "1           DRC01         5.92          Regular         0.019278  Soft Drinks   \n",
       "\n",
       "   Item_MRP Outlet_Identifier  Outlet_Establishment_Year Outlet_Size  \\\n",
       "0  249.8092            OUT049                       1999      Medium   \n",
       "1   48.2692            OUT018                       2009      Medium   \n",
       "\n",
       "  Outlet_Location_Type        Outlet_Type  Item_Outlet_Sales Source  outletAge  \n",
       "0               Tier 1  Supermarket Type1          3735.1380  train         19  \n",
       "1               Tier 3  Supermarket Type2           443.4228  train          9  "
      ]
     },
     "execution_count": 14,
     "metadata": {},
     "output_type": "execute_result"
    }
   ],
   "source": [
    "dt['outletAge']=2018-dt['Outlet_Establishment_Year']\n",
    "dt.head(2)"
   ]
  },
  {
   "cell_type": "code",
   "execution_count": 15,
   "id": "cbc0f4f0",
   "metadata": {},
   "outputs": [
    {
     "data": {
      "text/plain": [
       "array(['Medium', nan, 'High', 'Small'], dtype=object)"
      ]
     },
     "execution_count": 15,
     "metadata": {},
     "output_type": "execute_result"
    }
   ],
   "source": [
    "dt['Outlet_Size'].unique()"
   ]
  },
  {
   "cell_type": "code",
   "execution_count": 16,
   "id": "40d9bc4b",
   "metadata": {},
   "outputs": [
    {
     "data": {
      "text/plain": [
       "Low Fat    8485\n",
       "Regular    4824\n",
       "LF          522\n",
       "reg         195\n",
       "low fat     178\n",
       "Name: Item_Fat_Content, dtype: int64"
      ]
     },
     "execution_count": 16,
     "metadata": {},
     "output_type": "execute_result"
    }
   ],
   "source": [
    "dt['Item_Fat_Content'].value_counts()"
   ]
  },
  {
   "cell_type": "code",
   "execution_count": 17,
   "id": "dfdbbec9",
   "metadata": {},
   "outputs": [
    {
     "data": {
      "text/plain": [
       "Medium    4655\n",
       "Small     3980\n",
       "High      1553\n",
       "Name: Outlet_Size, dtype: int64"
      ]
     },
     "execution_count": 17,
     "metadata": {},
     "output_type": "execute_result"
    }
   ],
   "source": [
    "dt['Outlet_Size'].value_counts()"
   ]
  },
  {
   "cell_type": "code",
   "execution_count": 18,
   "id": "f80b36ff",
   "metadata": {},
   "outputs": [
    {
     "data": {
      "text/plain": [
       "'Medium'"
      ]
     },
     "execution_count": 18,
     "metadata": {},
     "output_type": "execute_result"
    }
   ],
   "source": [
    "dt['Outlet_Size'].mode()[0]"
   ]
  },
  {
   "cell_type": "code",
   "execution_count": 19,
   "id": "8c89e648",
   "metadata": {},
   "outputs": [],
   "source": [
    "dt['Outlet_Size']=dt['Outlet_Size'].fillna(dt['Outlet_Size'].mode()[0])"
   ]
  },
  {
   "cell_type": "code",
   "execution_count": 20,
   "id": "9afd46dc",
   "metadata": {},
   "outputs": [],
   "source": [
    "dt['Item_Weight']=dt['Item_Weight'].fillna(dt['Item_Weight'].mode()[0])"
   ]
  },
  {
   "cell_type": "code",
   "execution_count": 21,
   "id": "b81ee63c",
   "metadata": {},
   "outputs": [
    {
     "data": {
      "text/plain": [
       "<AxesSubplot: >"
      ]
     },
     "execution_count": 21,
     "metadata": {},
     "output_type": "execute_result"
    },
    {
     "data": {
      "image/png": "[encoded data removed]",
      "text/plain": [
       "<Figure size 640x480 with 1 Axes>"
      ]
     },
     "metadata": {},
     "output_type": "display_data"
    }
   ],
   "source": [
    "dt[\"Item_Visibility\"].hist(bins=20)"
   ]
  },
  {
   "cell_type": "code",
   "execution_count": 28,
   "id": "4ed3f7a8",
   "metadata": {},
   "outputs": [],
   "source": [
    "q1=dt['Item_Visibility'].quantile(0.25)\n",
    "q3=dt['Item_Visibility'].quantile(0.75)"
   ]
  },
  {
   "cell_type": "code",
   "execution_count": 29,
   "id": "917fc009",
   "metadata": {},
   "outputs": [],
   "source": [
    "iqr=q3-q1"
   ]
  },
  {
   "cell_type": "code",
   "execution_count": 32,
   "id": "b62ce22d",
   "metadata": {},
   "outputs": [],
   "source": [
    "fill_dt=dt.query('(@q1-1.5*@iqr)<=Item_Visibility<=(@q3+1.5*@iqr)')"
   ]
  },
  {
   "cell_type": "code",
   "execution_count": 33,
   "id": "7b9c84ef",
   "metadata": {},
   "outputs": [
    {
     "data": {
      "text/html": [
       "<div>\n",
       "<style scoped>\n",
       "    .dataframe tbody tr th:only-of-type {\n",
       "        vertical-align: middle;\n",
       "    }\n",
       "\n",
       "    .dataframe tbody tr th {\n",
       "        vertical-align: top;\n",
       "    }\n",
       "\n",
       "    .dataframe thead th {\n",
       "        text-align: right;\n",
       "    }\n",
       "</style>\n",
       "<table border=\"1\" class=\"dataframe\">\n",
       "  <thead>\n",
       "    <tr style=\"text-align: right;\">\n",
       "      <th></th>\n",
       "      <th>Item_Identifier</th>\n",
       "      <th>Item_Weight</th>\n",
       "      <th>Item_Fat_Content</th>\n",
       "      <th>Item_Visibility</th>\n",
       "      <th>Item_Type</th>\n",
       "      <th>Item_MRP</th>\n",
       "      <th>Outlet_Identifier</th>\n",
       "      <th>Outlet_Establishment_Year</th>\n",
       "      <th>Outlet_Size</th>\n",
       "      <th>Outlet_Location_Type</th>\n",
       "      <th>Outlet_Type</th>\n",
       "      <th>Item_Outlet_Sales</th>\n",
       "      <th>Source</th>\n",
       "      <th>outletAge</th>\n",
       "    </tr>\n",
       "  </thead>\n",
       "  <tbody>\n",
       "    <tr>\n",
       "      <th>0</th>\n",
       "      <td>FDA15</td>\n",
       "      <td>9.30</td>\n",
       "      <td>Low Fat</td>\n",
       "      <td>0.016047</td>\n",
       "      <td>Dairy</td>\n",
       "      <td>249.8092</td>\n",
       "      <td>OUT049</td>\n",
       "      <td>1999</td>\n",
       "      <td>Medium</td>\n",
       "      <td>Tier 1</td>\n",
       "      <td>Supermarket Type1</td>\n",
       "      <td>3735.1380</td>\n",
       "      <td>train</td>\n",
       "      <td>19</td>\n",
       "    </tr>\n",
       "    <tr>\n",
       "      <th>1</th>\n",
       "      <td>DRC01</td>\n",
       "      <td>5.92</td>\n",
       "      <td>Regular</td>\n",
       "      <td>0.019278</td>\n",
       "      <td>Soft Drinks</td>\n",
       "      <td>48.2692</td>\n",
       "      <td>OUT018</td>\n",
       "      <td>2009</td>\n",
       "      <td>Medium</td>\n",
       "      <td>Tier 3</td>\n",
       "      <td>Supermarket Type2</td>\n",
       "      <td>443.4228</td>\n",
       "      <td>train</td>\n",
       "      <td>9</td>\n",
       "    </tr>\n",
       "  </tbody>\n",
       "</table>\n",
       "</div>"
      ],
      "text/plain": [
       "  Item_Identifier  Item_Weight Item_Fat_Content  Item_Visibility    Item_Type  \\\n",
       "0           FDA15         9.30          Low Fat         0.016047        Dairy   \n",
       "1           DRC01         5.92          Regular         0.019278  Soft Drinks   \n",
       "\n",
       "   Item_MRP Outlet_Identifier  Outlet_Establishment_Year Outlet_Size  \\\n",
       "0  249.8092            OUT049                       1999      Medium   \n",
       "1   48.2692            OUT018                       2009      Medium   \n",
       "\n",
       "  Outlet_Location_Type        Outlet_Type  Item_Outlet_Sales Source  outletAge  \n",
       "0               Tier 1  Supermarket Type1          3735.1380  train         19  \n",
       "1               Tier 3  Supermarket Type2           443.4228  train          9  "
      ]
     },
     "execution_count": 33,
     "metadata": {},
     "output_type": "execute_result"
    }
   ],
   "source": [
    "fill_dt.head(2)"
   ]
  },
  {
   "cell_type": "code",
   "execution_count": 34,
   "id": "44525043",
   "metadata": {},
   "outputs": [
    {
     "data": {
      "text/plain": [
       "(13943, 14)"
      ]
     },
     "execution_count": 34,
     "metadata": {},
     "output_type": "execute_result"
    }
   ],
   "source": [
    "fill_dt.shape"
   ]
  },
  {
   "cell_type": "code",
   "execution_count": 35,
   "id": "a106fbf5",
   "metadata": {},
   "outputs": [
    {
     "data": {
      "text/plain": [
       "(14204, 14)"
      ]
     },
     "execution_count": 35,
     "metadata": {},
     "output_type": "execute_result"
    }
   ],
   "source": [
    "dt.shape"
   ]
  },
  {
   "cell_type": "code",
   "execution_count": 36,
   "id": "5776e63c",
   "metadata": {},
   "outputs": [],
   "source": [
    "dt=fill_dt"
   ]
  },
  {
   "cell_type": "code",
   "execution_count": 37,
   "id": "c2ad0255",
   "metadata": {},
   "outputs": [
    {
     "data": {
      "text/plain": [
       "(13943, 14)"
      ]
     },
     "execution_count": 37,
     "metadata": {},
     "output_type": "execute_result"
    }
   ],
   "source": [
    "dt.shape"
   ]
  },
  {
   "cell_type": "code",
   "execution_count": 38,
   "id": "887fafa8",
   "metadata": {},
   "outputs": [],
   "source": [
    "dt['Item_Visibility_bins']=pd.cut(dt['Item_Visibility'],[0.000,0.065,0.13,0.2],labels=['low_viz','viz','high_viz'])"
   ]
  },
  {
   "cell_type": "code",
   "execution_count": 39,
   "id": "e88d004b",
   "metadata": {},
   "outputs": [
    {
     "data": {
      "text/plain": [
       "low_viz     7363\n",
       "viz         4283\n",
       "high_viz    1418\n",
       "Name: Item_Visibility_bins, dtype: int64"
      ]
     },
     "execution_count": 39,
     "metadata": {},
     "output_type": "execute_result"
    }
   ],
   "source": [
    "dt['Item_Visibility_bins'].value_counts()"
   ]
  },
  {
   "cell_type": "code",
   "execution_count": 40,
   "id": "5629239a",
   "metadata": {},
   "outputs": [],
   "source": [
    "dt['Item_Visibility_bins']=dt['Item_Visibility_bins'].replace(np.nan,'low_viz',regex=True)"
   ]
  },
  {
   "cell_type": "code",
   "execution_count": 56,
   "id": "29f0b865",
   "metadata": {},
   "outputs": [],
   "source": [
    "dt['Item_Fat_Content']=dt['Item_Fat_Content'].replace(['low Fat','LF'],'Low Fat')"
   ]
  },
  {
   "cell_type": "code",
   "execution_count": 57,
   "id": "00d6a183",
   "metadata": {},
   "outputs": [],
   "source": [
    "dt['Item_Fat_Content']=dt['Item_Fat_Content'].replace('reg','Regular')"
   ]
  },
  {
   "cell_type": "code",
   "execution_count": 58,
   "id": "e52b3a5c",
   "metadata": {},
   "outputs": [
    {
     "data": {
      "text/plain": [
       "array(['Low Fat', 'Regular'], dtype=object)"
      ]
     },
     "execution_count": 58,
     "metadata": {},
     "output_type": "execute_result"
    }
   ],
   "source": [
    "dt['Item_Fat_Content'].unique()"
   ]
  },
  {
   "cell_type": "code",
   "execution_count": 59,
   "id": "d86de7c3",
   "metadata": {},
   "outputs": [],
   "source": [
    "le=LabelEncoder()"
   ]
  },
  {
   "cell_type": "code",
   "execution_count": 60,
   "id": "820862af",
   "metadata": {},
   "outputs": [],
   "source": [
    "dt['Item_Fat_Content']=le.fit_transform(dt['Item_Fat_Content'])"
   ]
  },
  {
   "cell_type": "code",
   "execution_count": 62,
   "id": "6bbcfca7",
   "metadata": {},
   "outputs": [],
   "source": [
    "dt['Item_Visibility_bins']=le.fit_transform(dt['Item_Visibility_bins'])"
   ]
  },
  {
   "cell_type": "code",
   "execution_count": 63,
   "id": "43c29089",
   "metadata": {},
   "outputs": [],
   "source": [
    "dt['Outlet_Size']=le.fit_transform(dt['Outlet_Size'])"
   ]
  },
  {
   "cell_type": "code",
   "execution_count": 64,
   "id": "cfa5e428",
   "metadata": {},
   "outputs": [],
   "source": [
    "dt['Outlet_Location_Type']=le.fit_transform(dt['Outlet_Location_Type'])"
   ]
  },
  {
   "cell_type": "code",
   "execution_count": 65,
   "id": "e0ecda60",
   "metadata": {},
   "outputs": [
    {
     "data": {
      "text/plain": [
       "array(['Supermarket Type1', 'Supermarket Type2', 'Grocery Store',\n",
       "       'Supermarket Type3'], dtype=object)"
      ]
     },
     "execution_count": 65,
     "metadata": {},
     "output_type": "execute_result"
    }
   ],
   "source": [
    "dt['Outlet_Type'].unique()"
   ]
  },
  {
   "cell_type": "code",
   "execution_count": 66,
   "id": "52973d64",
   "metadata": {},
   "outputs": [
    {
     "data": {
      "text/html": [
       "<div>\n",
       "<style scoped>\n",
       "    .dataframe tbody tr th:only-of-type {\n",
       "        vertical-align: middle;\n",
       "    }\n",
       "\n",
       "    .dataframe tbody tr th {\n",
       "        vertical-align: top;\n",
       "    }\n",
       "\n",
       "    .dataframe thead th {\n",
       "        text-align: right;\n",
       "    }\n",
       "</style>\n",
       "<table border=\"1\" class=\"dataframe\">\n",
       "  <thead>\n",
       "    <tr style=\"text-align: right;\">\n",
       "      <th></th>\n",
       "      <th>Grocery Store</th>\n",
       "      <th>Supermarket Type1</th>\n",
       "      <th>Supermarket Type2</th>\n",
       "      <th>Supermarket Type3</th>\n",
       "    </tr>\n",
       "  </thead>\n",
       "  <tbody>\n",
       "    <tr>\n",
       "      <th>0</th>\n",
       "      <td>0</td>\n",
       "      <td>1</td>\n",
       "      <td>0</td>\n",
       "      <td>0</td>\n",
       "    </tr>\n",
       "    <tr>\n",
       "      <th>1</th>\n",
       "      <td>0</td>\n",
       "      <td>0</td>\n",
       "      <td>1</td>\n",
       "      <td>0</td>\n",
       "    </tr>\n",
       "    <tr>\n",
       "      <th>2</th>\n",
       "      <td>0</td>\n",
       "      <td>1</td>\n",
       "      <td>0</td>\n",
       "      <td>0</td>\n",
       "    </tr>\n",
       "    <tr>\n",
       "      <th>3</th>\n",
       "      <td>1</td>\n",
       "      <td>0</td>\n",
       "      <td>0</td>\n",
       "      <td>0</td>\n",
       "    </tr>\n",
       "    <tr>\n",
       "      <th>4</th>\n",
       "      <td>0</td>\n",
       "      <td>1</td>\n",
       "      <td>0</td>\n",
       "      <td>0</td>\n",
       "    </tr>\n",
       "  </tbody>\n",
       "</table>\n",
       "</div>"
      ],
      "text/plain": [
       "   Grocery Store  Supermarket Type1  Supermarket Type2  Supermarket Type3\n",
       "0              0                  1                  0                  0\n",
       "1              0                  0                  1                  0\n",
       "2              0                  1                  0                  0\n",
       "3              1                  0                  0                  0\n",
       "4              0                  1                  0                  0"
      ]
     },
     "execution_count": 66,
     "metadata": {},
     "output_type": "execute_result"
    }
   ],
   "source": [
    "dummy=pd.get_dummies(dt['Outlet_Type'])\n",
    "dummy.head()"
   ]
  },
  {
   "cell_type": "code",
   "execution_count": 68,
   "id": "72153237",
   "metadata": {},
   "outputs": [
    {
     "data": {
      "text/plain": [
       "0        FDA15\n",
       "1        DRC01\n",
       "2        FDN15\n",
       "3        FDX07\n",
       "4        NCD19\n",
       "         ...  \n",
       "14199    FDB58\n",
       "14200    FDD47\n",
       "14201    NCO17\n",
       "14202    FDJ26\n",
       "14203    FDU37\n",
       "Name: Item_Identifier, Length: 13943, dtype: object"
      ]
     },
     "execution_count": 68,
     "metadata": {},
     "output_type": "execute_result"
    }
   ],
   "source": [
    "dt['Item_Identifier']"
   ]
  },
  {
   "cell_type": "code",
   "execution_count": 69,
   "id": "3b9ebc52",
   "metadata": {},
   "outputs": [
    {
     "data": {
      "text/plain": [
       "FDE33    10\n",
       "FDM12    10\n",
       "FDY47    10\n",
       "FDT03    10\n",
       "FDO01    10\n",
       "         ..\n",
       "FDA10     7\n",
       "FDO33     7\n",
       "FDZ60     7\n",
       "NCW54     7\n",
       "FDG21     7\n",
       "Name: Item_Identifier, Length: 1559, dtype: int64"
      ]
     },
     "execution_count": 69,
     "metadata": {},
     "output_type": "execute_result"
    }
   ],
   "source": [
    "dt['Item_Identifier'].value_counts()"
   ]
  },
  {
   "cell_type": "code",
   "execution_count": 70,
   "id": "f0ca47e6",
   "metadata": {},
   "outputs": [],
   "source": [
    "dt['Item_Type_Combined']=dt['Item_Identifier'].apply(lambda x:x[0:2])\n",
    "dt['Item_Type_Combined']=dt['Item_Type_Combined'].map({'FD':'Food','NC':'Non-Consumable','DR':'Drinks'})"
   ]
  },
  {
   "cell_type": "code",
   "execution_count": 72,
   "id": "5b46eafb",
   "metadata": {},
   "outputs": [
    {
     "data": {
      "text/plain": [
       "Food              9991\n",
       "Non-Consumable    2652\n",
       "Drinks            1300\n",
       "Name: Item_Type_Combined, dtype: int64"
      ]
     },
     "execution_count": 72,
     "metadata": {},
     "output_type": "execute_result"
    }
   ],
   "source": [
    "dt['Item_Type_Combined'].value_counts()"
   ]
  },
  {
   "cell_type": "code",
   "execution_count": 73,
   "id": "0a38aa7d",
   "metadata": {},
   "outputs": [
    {
     "data": {
      "text/plain": [
       "(13943, 16)"
      ]
     },
     "execution_count": 73,
     "metadata": {},
     "output_type": "execute_result"
    }
   ],
   "source": [
    "dt.shape"
   ]
  },
  {
   "cell_type": "code",
   "execution_count": 75,
   "id": "4aa8c7a5",
   "metadata": {},
   "outputs": [],
   "source": [
    "dt=pd.get_dummies(dt,columns=['Item_Fat_Content','Outlet_Location_Type','Outlet_Size','Outlet_Type','Item_Type_Combined'])"
   ]
  },
  {
   "cell_type": "code",
   "execution_count": 81,
   "id": "ae4c2692",
   "metadata": {},
   "outputs": [
    {
     "data": {
      "text/plain": [
       "Item_Identifier                       object\n",
       "Item_Weight                          float64\n",
       "Item_Visibility                      float64\n",
       "Item_MRP                             float64\n",
       "Outlet_Identifier                     object\n",
       "Item_Outlet_Sales                    float64\n",
       "Source                                object\n",
       "outletAge                              int64\n",
       "Item_Visibility_bins                   int32\n",
       "Item_Fat_Content_0                     uint8\n",
       "Item_Fat_Content_1                     uint8\n",
       "Outlet_Location_Type_0                 uint8\n",
       "Outlet_Location_Type_1                 uint8\n",
       "Outlet_Location_Type_2                 uint8\n",
       "Outlet_Size_0                          uint8\n",
       "Outlet_Size_1                          uint8\n",
       "Outlet_Size_2                          uint8\n",
       "Outlet_Type_Grocery Store              uint8\n",
       "Outlet_Type_Supermarket Type1          uint8\n",
       "Outlet_Type_Supermarket Type2          uint8\n",
       "Outlet_Type_Supermarket Type3          uint8\n",
       "Item_Type_Combined_Drinks              uint8\n",
       "Item_Type_Combined_Food                uint8\n",
       "Item_Type_Combined_Non-Consumable      uint8\n",
       "dtype: object"
      ]
     },
     "execution_count": 81,
     "metadata": {},
     "output_type": "execute_result"
    }
   ],
   "source": [
    "dt.dtypes"
   ]
  },
  {
   "cell_type": "code",
   "execution_count": 83,
   "id": "8db3d96f",
   "metadata": {},
   "outputs": [],
   "source": [
    "import warnings\n",
    "warnings.filterwarnings('ignore')"
   ]
  },
  {
   "cell_type": "code",
   "execution_count": 85,
   "id": "430d2a35",
   "metadata": {},
   "outputs": [],
   "source": [
    "train=dt.loc[dt['Source']=='train']\n",
    "test=dt.loc[dt['Source']=='test']\n",
    "test.drop(['Item_Outlet_Sales','Source'],axis=1,inplace=True)\n",
    "train.drop(['Source'],axis=1,inplace=True)\n",
    "train.to_csv('train_modified.csv',index=False)\n",
    "test.to_csv('test_modified.csv',index=False)"
   ]
  },
  {
   "cell_type": "code",
   "execution_count": 86,
   "id": "6c586d96",
   "metadata": {},
   "outputs": [],
   "source": [
    "train2=pd.read_csv('train_modified.csv')\n",
    "test2=pd.read_csv('test_modified.csv')"
   ]
  },
  {
   "cell_type": "code",
   "execution_count": 88,
   "id": "1d368991",
   "metadata": {},
   "outputs": [
    {
     "data": {
      "text/plain": [
       "Item_Identifier                       object\n",
       "Item_Weight                          float64\n",
       "Item_Visibility                      float64\n",
       "Item_MRP                             float64\n",
       "Outlet_Identifier                     object\n",
       "Item_Outlet_Sales                    float64\n",
       "outletAge                              int64\n",
       "Item_Visibility_bins                   int64\n",
       "Item_Fat_Content_0                     int64\n",
       "Item_Fat_Content_1                     int64\n",
       "Outlet_Location_Type_0                 int64\n",
       "Outlet_Location_Type_1                 int64\n",
       "Outlet_Location_Type_2                 int64\n",
       "Outlet_Size_0                          int64\n",
       "Outlet_Size_1                          int64\n",
       "Outlet_Size_2                          int64\n",
       "Outlet_Type_Grocery Store              int64\n",
       "Outlet_Type_Supermarket Type1          int64\n",
       "Outlet_Type_Supermarket Type2          int64\n",
       "Outlet_Type_Supermarket Type3          int64\n",
       "Item_Type_Combined_Drinks              int64\n",
       "Item_Type_Combined_Food                int64\n",
       "Item_Type_Combined_Non-Consumable      int64\n",
       "dtype: object"
      ]
     },
     "execution_count": 88,
     "metadata": {},
     "output_type": "execute_result"
    }
   ],
   "source": [
    "train2.dtypes"
   ]
  },
  {
   "cell_type": "code",
   "execution_count": 90,
   "id": "2dafb570",
   "metadata": {},
   "outputs": [],
   "source": [
    "x_train=train2.drop(['Item_Outlet_Sales','Outlet_Identifier','Item_Identifier'],axis=1)\n",
    "y_train=train2.Item_Outlet_Sales"
   ]
  },
  {
   "cell_type": "code",
   "execution_count": 91,
   "id": "b8d5e7ea",
   "metadata": {},
   "outputs": [],
   "source": [
    "x_test=test2.drop(['Outlet_Identifier','Item_Identifier'],axis=1)"
   ]
  },
  {
   "cell_type": "code",
   "execution_count": 92,
   "id": "d1cc211d",
   "metadata": {},
   "outputs": [
    {
     "data": {
      "text/html": [
       "<div>\n",
       "<style scoped>\n",
       "    .dataframe tbody tr th:only-of-type {\n",
       "        vertical-align: middle;\n",
       "    }\n",
       "\n",
       "    .dataframe tbody tr th {\n",
       "        vertical-align: top;\n",
       "    }\n",
       "\n",
       "    .dataframe thead th {\n",
       "        text-align: right;\n",
       "    }\n",
       "</style>\n",
       "<table border=\"1\" class=\"dataframe\">\n",
       "  <thead>\n",
       "    <tr style=\"text-align: right;\">\n",
       "      <th></th>\n",
       "      <th>Item_Weight</th>\n",
       "      <th>Item_Visibility</th>\n",
       "      <th>Item_MRP</th>\n",
       "      <th>outletAge</th>\n",
       "      <th>Item_Visibility_bins</th>\n",
       "      <th>Item_Fat_Content_0</th>\n",
       "      <th>Item_Fat_Content_1</th>\n",
       "      <th>Outlet_Location_Type_0</th>\n",
       "      <th>Outlet_Location_Type_1</th>\n",
       "      <th>Outlet_Location_Type_2</th>\n",
       "      <th>Outlet_Size_0</th>\n",
       "      <th>Outlet_Size_1</th>\n",
       "      <th>Outlet_Size_2</th>\n",
       "      <th>Outlet_Type_Grocery Store</th>\n",
       "      <th>Outlet_Type_Supermarket Type1</th>\n",
       "      <th>Outlet_Type_Supermarket Type2</th>\n",
       "      <th>Outlet_Type_Supermarket Type3</th>\n",
       "      <th>Item_Type_Combined_Drinks</th>\n",
       "      <th>Item_Type_Combined_Food</th>\n",
       "      <th>Item_Type_Combined_Non-Consumable</th>\n",
       "    </tr>\n",
       "  </thead>\n",
       "  <tbody>\n",
       "    <tr>\n",
       "      <th>0</th>\n",
       "      <td>20.750</td>\n",
       "      <td>0.007565</td>\n",
       "      <td>107.8622</td>\n",
       "      <td>19</td>\n",
       "      <td>1</td>\n",
       "      <td>1</td>\n",
       "      <td>0</td>\n",
       "      <td>1</td>\n",
       "      <td>0</td>\n",
       "      <td>0</td>\n",
       "      <td>0</td>\n",
       "      <td>1</td>\n",
       "      <td>0</td>\n",
       "      <td>0</td>\n",
       "      <td>1</td>\n",
       "      <td>0</td>\n",
       "      <td>0</td>\n",
       "      <td>0</td>\n",
       "      <td>1</td>\n",
       "      <td>0</td>\n",
       "    </tr>\n",
       "    <tr>\n",
       "      <th>1</th>\n",
       "      <td>8.300</td>\n",
       "      <td>0.038428</td>\n",
       "      <td>87.3198</td>\n",
       "      <td>11</td>\n",
       "      <td>1</td>\n",
       "      <td>0</td>\n",
       "      <td>1</td>\n",
       "      <td>0</td>\n",
       "      <td>1</td>\n",
       "      <td>0</td>\n",
       "      <td>0</td>\n",
       "      <td>1</td>\n",
       "      <td>0</td>\n",
       "      <td>0</td>\n",
       "      <td>1</td>\n",
       "      <td>0</td>\n",
       "      <td>0</td>\n",
       "      <td>0</td>\n",
       "      <td>1</td>\n",
       "      <td>0</td>\n",
       "    </tr>\n",
       "    <tr>\n",
       "      <th>2</th>\n",
       "      <td>14.600</td>\n",
       "      <td>0.099575</td>\n",
       "      <td>241.7538</td>\n",
       "      <td>20</td>\n",
       "      <td>2</td>\n",
       "      <td>1</td>\n",
       "      <td>0</td>\n",
       "      <td>0</td>\n",
       "      <td>0</td>\n",
       "      <td>1</td>\n",
       "      <td>0</td>\n",
       "      <td>1</td>\n",
       "      <td>0</td>\n",
       "      <td>1</td>\n",
       "      <td>0</td>\n",
       "      <td>0</td>\n",
       "      <td>0</td>\n",
       "      <td>0</td>\n",
       "      <td>0</td>\n",
       "      <td>1</td>\n",
       "    </tr>\n",
       "    <tr>\n",
       "      <th>3</th>\n",
       "      <td>7.315</td>\n",
       "      <td>0.015388</td>\n",
       "      <td>155.0340</td>\n",
       "      <td>11</td>\n",
       "      <td>1</td>\n",
       "      <td>1</td>\n",
       "      <td>0</td>\n",
       "      <td>0</td>\n",
       "      <td>1</td>\n",
       "      <td>0</td>\n",
       "      <td>0</td>\n",
       "      <td>1</td>\n",
       "      <td>0</td>\n",
       "      <td>0</td>\n",
       "      <td>1</td>\n",
       "      <td>0</td>\n",
       "      <td>0</td>\n",
       "      <td>0</td>\n",
       "      <td>1</td>\n",
       "      <td>0</td>\n",
       "    </tr>\n",
       "    <tr>\n",
       "      <th>4</th>\n",
       "      <td>17.600</td>\n",
       "      <td>0.118599</td>\n",
       "      <td>234.2300</td>\n",
       "      <td>33</td>\n",
       "      <td>2</td>\n",
       "      <td>0</td>\n",
       "      <td>1</td>\n",
       "      <td>0</td>\n",
       "      <td>0</td>\n",
       "      <td>1</td>\n",
       "      <td>0</td>\n",
       "      <td>1</td>\n",
       "      <td>0</td>\n",
       "      <td>0</td>\n",
       "      <td>0</td>\n",
       "      <td>0</td>\n",
       "      <td>1</td>\n",
       "      <td>0</td>\n",
       "      <td>1</td>\n",
       "      <td>0</td>\n",
       "    </tr>\n",
       "    <tr>\n",
       "      <th>...</th>\n",
       "      <td>...</td>\n",
       "      <td>...</td>\n",
       "      <td>...</td>\n",
       "      <td>...</td>\n",
       "      <td>...</td>\n",
       "      <td>...</td>\n",
       "      <td>...</td>\n",
       "      <td>...</td>\n",
       "      <td>...</td>\n",
       "      <td>...</td>\n",
       "      <td>...</td>\n",
       "      <td>...</td>\n",
       "      <td>...</td>\n",
       "      <td>...</td>\n",
       "      <td>...</td>\n",
       "      <td>...</td>\n",
       "      <td>...</td>\n",
       "      <td>...</td>\n",
       "      <td>...</td>\n",
       "      <td>...</td>\n",
       "    </tr>\n",
       "    <tr>\n",
       "      <th>5563</th>\n",
       "      <td>10.500</td>\n",
       "      <td>0.013496</td>\n",
       "      <td>141.3154</td>\n",
       "      <td>21</td>\n",
       "      <td>1</td>\n",
       "      <td>0</td>\n",
       "      <td>1</td>\n",
       "      <td>1</td>\n",
       "      <td>0</td>\n",
       "      <td>0</td>\n",
       "      <td>0</td>\n",
       "      <td>0</td>\n",
       "      <td>1</td>\n",
       "      <td>0</td>\n",
       "      <td>1</td>\n",
       "      <td>0</td>\n",
       "      <td>0</td>\n",
       "      <td>0</td>\n",
       "      <td>1</td>\n",
       "      <td>0</td>\n",
       "    </tr>\n",
       "    <tr>\n",
       "      <th>5564</th>\n",
       "      <td>7.600</td>\n",
       "      <td>0.142991</td>\n",
       "      <td>169.1448</td>\n",
       "      <td>9</td>\n",
       "      <td>0</td>\n",
       "      <td>0</td>\n",
       "      <td>1</td>\n",
       "      <td>0</td>\n",
       "      <td>0</td>\n",
       "      <td>1</td>\n",
       "      <td>0</td>\n",
       "      <td>1</td>\n",
       "      <td>0</td>\n",
       "      <td>0</td>\n",
       "      <td>0</td>\n",
       "      <td>1</td>\n",
       "      <td>0</td>\n",
       "      <td>0</td>\n",
       "      <td>1</td>\n",
       "      <td>0</td>\n",
       "    </tr>\n",
       "    <tr>\n",
       "      <th>5565</th>\n",
       "      <td>10.000</td>\n",
       "      <td>0.073529</td>\n",
       "      <td>118.7440</td>\n",
       "      <td>16</td>\n",
       "      <td>2</td>\n",
       "      <td>1</td>\n",
       "      <td>0</td>\n",
       "      <td>0</td>\n",
       "      <td>1</td>\n",
       "      <td>0</td>\n",
       "      <td>0</td>\n",
       "      <td>1</td>\n",
       "      <td>0</td>\n",
       "      <td>0</td>\n",
       "      <td>1</td>\n",
       "      <td>0</td>\n",
       "      <td>0</td>\n",
       "      <td>0</td>\n",
       "      <td>0</td>\n",
       "      <td>1</td>\n",
       "    </tr>\n",
       "    <tr>\n",
       "      <th>5566</th>\n",
       "      <td>15.300</td>\n",
       "      <td>0.000000</td>\n",
       "      <td>214.6218</td>\n",
       "      <td>11</td>\n",
       "      <td>3</td>\n",
       "      <td>0</td>\n",
       "      <td>1</td>\n",
       "      <td>0</td>\n",
       "      <td>1</td>\n",
       "      <td>0</td>\n",
       "      <td>0</td>\n",
       "      <td>1</td>\n",
       "      <td>0</td>\n",
       "      <td>0</td>\n",
       "      <td>1</td>\n",
       "      <td>0</td>\n",
       "      <td>0</td>\n",
       "      <td>0</td>\n",
       "      <td>1</td>\n",
       "      <td>0</td>\n",
       "    </tr>\n",
       "    <tr>\n",
       "      <th>5567</th>\n",
       "      <td>9.500</td>\n",
       "      <td>0.104720</td>\n",
       "      <td>79.7960</td>\n",
       "      <td>16</td>\n",
       "      <td>2</td>\n",
       "      <td>0</td>\n",
       "      <td>1</td>\n",
       "      <td>0</td>\n",
       "      <td>1</td>\n",
       "      <td>0</td>\n",
       "      <td>0</td>\n",
       "      <td>1</td>\n",
       "      <td>0</td>\n",
       "      <td>0</td>\n",
       "      <td>1</td>\n",
       "      <td>0</td>\n",
       "      <td>0</td>\n",
       "      <td>0</td>\n",
       "      <td>1</td>\n",
       "      <td>0</td>\n",
       "    </tr>\n",
       "  </tbody>\n",
       "</table>\n",
       "<p>5568 rows × 20 columns</p>\n",
       "</div>"
      ],
      "text/plain": [
       "      Item_Weight  Item_Visibility  Item_MRP  outletAge  Item_Visibility_bins  \\\n",
       "0          20.750         0.007565  107.8622         19                     1   \n",
       "1           8.300         0.038428   87.3198         11                     1   \n",
       "2          14.600         0.099575  241.7538         20                     2   \n",
       "3           7.315         0.015388  155.0340         11                     1   \n",
       "4          17.600         0.118599  234.2300         33                     2   \n",
       "...           ...              ...       ...        ...                   ...   \n",
       "5563       10.500         0.013496  141.3154         21                     1   \n",
       "5564        7.600         0.142991  169.1448          9                     0   \n",
       "5565       10.000         0.073529  118.7440         16                     2   \n",
       "5566       15.300         0.000000  214.6218         11                     3   \n",
       "5567        9.500         0.104720   79.7960         16                     2   \n",
       "\n",
       "      Item_Fat_Content_0  Item_Fat_Content_1  Outlet_Location_Type_0  \\\n",
       "0                      1                   0                       1   \n",
       "1                      0                   1                       0   \n",
       "2                      1                   0                       0   \n",
       "3                      1                   0                       0   \n",
       "4                      0                   1                       0   \n",
       "...                  ...                 ...                     ...   \n",
       "5563                   0                   1                       1   \n",
       "5564                   0                   1                       0   \n",
       "5565                   1                   0                       0   \n",
       "5566                   0                   1                       0   \n",
       "5567                   0                   1                       0   \n",
       "\n",
       "      Outlet_Location_Type_1  Outlet_Location_Type_2  Outlet_Size_0  \\\n",
       "0                          0                       0              0   \n",
       "1                          1                       0              0   \n",
       "2                          0                       1              0   \n",
       "3                          1                       0              0   \n",
       "4                          0                       1              0   \n",
       "...                      ...                     ...            ...   \n",
       "5563                       0                       0              0   \n",
       "5564                       0                       1              0   \n",
       "5565                       1                       0              0   \n",
       "5566                       1                       0              0   \n",
       "5567                       1                       0              0   \n",
       "\n",
       "      Outlet_Size_1  Outlet_Size_2  Outlet_Type_Grocery Store  \\\n",
       "0                 1              0                          0   \n",
       "1                 1              0                          0   \n",
       "2                 1              0                          1   \n",
       "3                 1              0                          0   \n",
       "4                 1              0                          0   \n",
       "...             ...            ...                        ...   \n",
       "5563              0              1                          0   \n",
       "5564              1              0                          0   \n",
       "5565              1              0                          0   \n",
       "5566              1              0                          0   \n",
       "5567              1              0                          0   \n",
       "\n",
       "      Outlet_Type_Supermarket Type1  Outlet_Type_Supermarket Type2  \\\n",
       "0                                 1                              0   \n",
       "1                                 1                              0   \n",
       "2                                 0                              0   \n",
       "3                                 1                              0   \n",
       "4                                 0                              0   \n",
       "...                             ...                            ...   \n",
       "5563                              1                              0   \n",
       "5564                              0                              1   \n",
       "5565                              1                              0   \n",
       "5566                              1                              0   \n",
       "5567                              1                              0   \n",
       "\n",
       "      Outlet_Type_Supermarket Type3  Item_Type_Combined_Drinks  \\\n",
       "0                                 0                          0   \n",
       "1                                 0                          0   \n",
       "2                                 0                          0   \n",
       "3                                 0                          0   \n",
       "4                                 1                          0   \n",
       "...                             ...                        ...   \n",
       "5563                              0                          0   \n",
       "5564                              0                          0   \n",
       "5565                              0                          0   \n",
       "5566                              0                          0   \n",
       "5567                              0                          0   \n",
       "\n",
       "      Item_Type_Combined_Food  Item_Type_Combined_Non-Consumable  \n",
       "0                           1                                  0  \n",
       "1                           1                                  0  \n",
       "2                           0                                  1  \n",
       "3                           1                                  0  \n",
       "4                           1                                  0  \n",
       "...                       ...                                ...  \n",
       "5563                        1                                  0  \n",
       "5564                        1                                  0  \n",
       "5565                        0                                  1  \n",
       "5566                        1                                  0  \n",
       "5567                        1                                  0  \n",
       "\n",
       "[5568 rows x 20 columns]"
      ]
     },
     "execution_count": 92,
     "metadata": {},
     "output_type": "execute_result"
    }
   ],
   "source": [
    "x_test"
   ]
  },
  {
   "cell_type": "code",
   "execution_count": 93,
   "id": "03fa148c",
   "metadata": {},
   "outputs": [
    {
     "data": {
      "text/html": [
       "<div>\n",
       "<style scoped>\n",
       "    .dataframe tbody tr th:only-of-type {\n",
       "        vertical-align: middle;\n",
       "    }\n",
       "\n",
       "    .dataframe tbody tr th {\n",
       "        vertical-align: top;\n",
       "    }\n",
       "\n",
       "    .dataframe thead th {\n",
       "        text-align: right;\n",
       "    }\n",
       "</style>\n",
       "<table border=\"1\" class=\"dataframe\">\n",
       "  <thead>\n",
       "    <tr style=\"text-align: right;\">\n",
       "      <th></th>\n",
       "      <th>Item_Weight</th>\n",
       "      <th>Item_Visibility</th>\n",
       "      <th>Item_MRP</th>\n",
       "      <th>outletAge</th>\n",
       "      <th>Item_Visibility_bins</th>\n",
       "      <th>Item_Fat_Content_0</th>\n",
       "      <th>Item_Fat_Content_1</th>\n",
       "      <th>Outlet_Location_Type_0</th>\n",
       "      <th>Outlet_Location_Type_1</th>\n",
       "      <th>Outlet_Location_Type_2</th>\n",
       "      <th>Outlet_Size_0</th>\n",
       "      <th>Outlet_Size_1</th>\n",
       "      <th>Outlet_Size_2</th>\n",
       "      <th>Outlet_Type_Grocery Store</th>\n",
       "      <th>Outlet_Type_Supermarket Type1</th>\n",
       "      <th>Outlet_Type_Supermarket Type2</th>\n",
       "      <th>Outlet_Type_Supermarket Type3</th>\n",
       "      <th>Item_Type_Combined_Drinks</th>\n",
       "      <th>Item_Type_Combined_Food</th>\n",
       "      <th>Item_Type_Combined_Non-Consumable</th>\n",
       "    </tr>\n",
       "  </thead>\n",
       "  <tbody>\n",
       "    <tr>\n",
       "      <th>0</th>\n",
       "      <td>9.30</td>\n",
       "      <td>0.016047</td>\n",
       "      <td>249.8092</td>\n",
       "      <td>19</td>\n",
       "      <td>1</td>\n",
       "      <td>1</td>\n",
       "      <td>0</td>\n",
       "      <td>1</td>\n",
       "      <td>0</td>\n",
       "      <td>0</td>\n",
       "      <td>0</td>\n",
       "      <td>1</td>\n",
       "      <td>0</td>\n",
       "      <td>0</td>\n",
       "      <td>1</td>\n",
       "      <td>0</td>\n",
       "      <td>0</td>\n",
       "      <td>0</td>\n",
       "      <td>1</td>\n",
       "      <td>0</td>\n",
       "    </tr>\n",
       "    <tr>\n",
       "      <th>1</th>\n",
       "      <td>5.92</td>\n",
       "      <td>0.019278</td>\n",
       "      <td>48.2692</td>\n",
       "      <td>9</td>\n",
       "      <td>1</td>\n",
       "      <td>0</td>\n",
       "      <td>1</td>\n",
       "      <td>0</td>\n",
       "      <td>0</td>\n",
       "      <td>1</td>\n",
       "      <td>0</td>\n",
       "      <td>1</td>\n",
       "      <td>0</td>\n",
       "      <td>0</td>\n",
       "      <td>0</td>\n",
       "      <td>1</td>\n",
       "      <td>0</td>\n",
       "      <td>1</td>\n",
       "      <td>0</td>\n",
       "      <td>0</td>\n",
       "    </tr>\n",
       "  </tbody>\n",
       "</table>\n",
       "</div>"
      ],
      "text/plain": [
       "   Item_Weight  Item_Visibility  Item_MRP  outletAge  Item_Visibility_bins  \\\n",
       "0         9.30         0.016047  249.8092         19                     1   \n",
       "1         5.92         0.019278   48.2692          9                     1   \n",
       "\n",
       "   Item_Fat_Content_0  Item_Fat_Content_1  Outlet_Location_Type_0  \\\n",
       "0                   1                   0                       1   \n",
       "1                   0                   1                       0   \n",
       "\n",
       "   Outlet_Location_Type_1  Outlet_Location_Type_2  Outlet_Size_0  \\\n",
       "0                       0                       0              0   \n",
       "1                       0                       1              0   \n",
       "\n",
       "   Outlet_Size_1  Outlet_Size_2  Outlet_Type_Grocery Store  \\\n",
       "0              1              0                          0   \n",
       "1              1              0                          0   \n",
       "\n",
       "   Outlet_Type_Supermarket Type1  Outlet_Type_Supermarket Type2  \\\n",
       "0                              1                              0   \n",
       "1                              0                              1   \n",
       "\n",
       "   Outlet_Type_Supermarket Type3  Item_Type_Combined_Drinks  \\\n",
       "0                              0                          0   \n",
       "1                              0                          1   \n",
       "\n",
       "   Item_Type_Combined_Food  Item_Type_Combined_Non-Consumable  \n",
       "0                        1                                  0  \n",
       "1                        0                                  0  "
      ]
     },
     "execution_count": 93,
     "metadata": {},
     "output_type": "execute_result"
    }
   ],
   "source": [
    "x_train.head(2)"
   ]
  },
  {
   "cell_type": "code",
   "execution_count": 94,
   "id": "58fd9aee",
   "metadata": {},
   "outputs": [
    {
     "data": {
      "text/plain": [
       "0    3735.1380\n",
       "1     443.4228\n",
       "Name: Item_Outlet_Sales, dtype: float64"
      ]
     },
     "execution_count": 94,
     "metadata": {},
     "output_type": "execute_result"
    }
   ],
   "source": [
    "y_train.head(2)"
   ]
  },
  {
   "cell_type": "code",
   "execution_count": 95,
   "id": "87d2fffb",
   "metadata": {},
   "outputs": [],
   "source": [
    "from sklearn import model_selection\n",
    "from sklearn.linear_model import LinearRegression"
   ]
  },
  {
   "cell_type": "code",
   "execution_count": 96,
   "id": "c61e9d6a",
   "metadata": {},
   "outputs": [],
   "source": [
    "xtrain,xtest,ytrain,ytest=model_selection.train_test_split(x_train,y_train,test_size=0.3,random_state=42)"
   ]
  },
  {
   "cell_type": "code",
   "execution_count": 97,
   "id": "98c13706",
   "metadata": {},
   "outputs": [],
   "source": [
    "lr=LinearRegression()"
   ]
  },
  {
   "cell_type": "code",
   "execution_count": 98,
   "id": "290e9f78",
   "metadata": {},
   "outputs": [
    {
     "data": {
      "text/plain": [
       "LinearRegression()"
      ]
     },
     "execution_count": 98,
     "metadata": {},
     "output_type": "execute_result"
    }
   ],
   "source": [
    "lr.fit(xtrain,ytrain)"
   ]
  },
  {
   "cell_type": "code",
   "execution_count": 100,
   "id": "ce278fc5",
   "metadata": {},
   "outputs": [
    {
     "name": "stdout",
     "output_type": "stream",
     "text": [
      "[-1.93054423e+00 -3.47449893e+02  1.58788136e+01 -3.19310190e+01\n",
      " -4.64698319e+00 -1.55426303e+00  1.55426303e+00  1.92062618e+02\n",
      "  5.14808929e+01 -2.43543511e+02  5.46159390e+02 -3.14638972e+02\n",
      " -2.31520418e+02 -1.63452944e+03 -1.36100820e+02 -3.48655405e+02\n",
      "  2.11928567e+03  9.06454503e+00  3.46403369e+01 -4.37048820e+01]\n"
     ]
    },
    {
     "data": {
      "text/plain": [
       "955.7016246686587"
      ]
     },
     "execution_count": 100,
     "metadata": {},
     "output_type": "execute_result"
    }
   ],
   "source": [
    "print(lr.coef_)\n",
    "lr.intercept_"
   ]
  },
  {
   "cell_type": "code",
   "execution_count": 101,
   "id": "16343560",
   "metadata": {},
   "outputs": [
    {
     "data": {
      "text/plain": [
       "array([2077.92386202, 3704.93216108, 2961.28180591, ..., 3541.28725867,\n",
       "       3464.78656382, 1249.59368407])"
      ]
     },
     "execution_count": 101,
     "metadata": {},
     "output_type": "execute_result"
    }
   ],
   "source": [
    "predictions=lr.predict(xtest)\n",
    "predictions"
   ]
  },
  {
   "cell_type": "code",
   "execution_count": 102,
   "id": "adb10d6b",
   "metadata": {},
   "outputs": [],
   "source": [
    "import math"
   ]
  },
  {
   "cell_type": "code",
   "execution_count": 104,
   "id": "40f48da7",
   "metadata": {},
   "outputs": [
    {
     "name": "stdout",
     "output_type": "stream",
     "text": [
      "1126.2352692434754\n"
     ]
    }
   ],
   "source": [
    "print(math.sqrt(mean_squared_error(ytest,predictions)))"
   ]
  },
  {
   "cell_type": "code",
   "execution_count": 105,
   "id": "6a4fe222",
   "metadata": {},
   "outputs": [
    {
     "data": {
      "text/plain": [
       "array([1788.81075495, 1593.90875193, 1845.79649796, ..., 1831.65421972,\n",
       "       3605.8573969 , 1284.78769015])"
      ]
     },
     "execution_count": 105,
     "metadata": {},
     "output_type": "execute_result"
    }
   ],
   "source": [
    "y_sales_pred=lr.predict(x_test)\n",
    "y_sales_pred"
   ]
  },
  {
   "cell_type": "code",
   "execution_count": 107,
   "id": "2ff1b320",
   "metadata": {},
   "outputs": [],
   "source": [
    "testPredictions=pd.DataFrame({'Item_Identifier':test2['Item_Identifier'],'Outlet_Identifier':test2['Outlet_Identifier'],\n",
    "                              'Item_Outlet_Sales':y_sales_pred},columns=['Item_Identifier','Outlet_Identifier','Item_Outlet_Sales'])"
   ]
  },
  {
   "cell_type": "code",
   "execution_count": 108,
   "id": "b9151edc",
   "metadata": {},
   "outputs": [
    {
     "data": {
      "text/html": [
       "<div>\n",
       "<style scoped>\n",
       "    .dataframe tbody tr th:only-of-type {\n",
       "        vertical-align: middle;\n",
       "    }\n",
       "\n",
       "    .dataframe tbody tr th {\n",
       "        vertical-align: top;\n",
       "    }\n",
       "\n",
       "    .dataframe thead th {\n",
       "        text-align: right;\n",
       "    }\n",
       "</style>\n",
       "<table border=\"1\" class=\"dataframe\">\n",
       "  <thead>\n",
       "    <tr style=\"text-align: right;\">\n",
       "      <th></th>\n",
       "      <th>Item_Identifier</th>\n",
       "      <th>Outlet_Identifier</th>\n",
       "      <th>Item_Outlet_Sales</th>\n",
       "    </tr>\n",
       "  </thead>\n",
       "  <tbody>\n",
       "    <tr>\n",
       "      <th>0</th>\n",
       "      <td>FDW58</td>\n",
       "      <td>OUT049</td>\n",
       "      <td>1788.810755</td>\n",
       "    </tr>\n",
       "    <tr>\n",
       "      <th>1</th>\n",
       "      <td>FDW14</td>\n",
       "      <td>OUT017</td>\n",
       "      <td>1593.908752</td>\n",
       "    </tr>\n",
       "    <tr>\n",
       "      <th>2</th>\n",
       "      <td>NCN55</td>\n",
       "      <td>OUT010</td>\n",
       "      <td>1845.796498</td>\n",
       "    </tr>\n",
       "    <tr>\n",
       "      <th>3</th>\n",
       "      <td>FDQ58</td>\n",
       "      <td>OUT017</td>\n",
       "      <td>2675.927968</td>\n",
       "    </tr>\n",
       "    <tr>\n",
       "      <th>4</th>\n",
       "      <td>FDY38</td>\n",
       "      <td>OUT027</td>\n",
       "      <td>5134.091429</td>\n",
       "    </tr>\n",
       "    <tr>\n",
       "      <th>...</th>\n",
       "      <td>...</td>\n",
       "      <td>...</td>\n",
       "      <td>...</td>\n",
       "    </tr>\n",
       "    <tr>\n",
       "      <th>5563</th>\n",
       "      <td>FDB58</td>\n",
       "      <td>OUT046</td>\n",
       "      <td>2360.100059</td>\n",
       "    </tr>\n",
       "    <tr>\n",
       "      <th>5564</th>\n",
       "      <td>FDD47</td>\n",
       "      <td>OUT018</td>\n",
       "      <td>2419.143609</td>\n",
       "    </tr>\n",
       "    <tr>\n",
       "      <th>5565</th>\n",
       "      <td>NCO17</td>\n",
       "      <td>OUT045</td>\n",
       "      <td>1831.654220</td>\n",
       "    </tr>\n",
       "    <tr>\n",
       "      <th>5566</th>\n",
       "      <td>FDJ26</td>\n",
       "      <td>OUT017</td>\n",
       "      <td>3605.857397</td>\n",
       "    </tr>\n",
       "    <tr>\n",
       "      <th>5567</th>\n",
       "      <td>FDU37</td>\n",
       "      <td>OUT045</td>\n",
       "      <td>1284.787690</td>\n",
       "    </tr>\n",
       "  </tbody>\n",
       "</table>\n",
       "<p>5568 rows × 3 columns</p>\n",
       "</div>"
      ],
      "text/plain": [
       "     Item_Identifier Outlet_Identifier  Item_Outlet_Sales\n",
       "0              FDW58            OUT049        1788.810755\n",
       "1              FDW14            OUT017        1593.908752\n",
       "2              NCN55            OUT010        1845.796498\n",
       "3              FDQ58            OUT017        2675.927968\n",
       "4              FDY38            OUT027        5134.091429\n",
       "...              ...               ...                ...\n",
       "5563           FDB58            OUT046        2360.100059\n",
       "5564           FDD47            OUT018        2419.143609\n",
       "5565           NCO17            OUT045        1831.654220\n",
       "5566           FDJ26            OUT017        3605.857397\n",
       "5567           FDU37            OUT045        1284.787690\n",
       "\n",
       "[5568 rows x 3 columns]"
      ]
     },
     "execution_count": 108,
     "metadata": {},
     "output_type": "execute_result"
    }
   ],
   "source": [
    "testPredictions"
   ]
  },
  {
   "cell_type": "code",
   "execution_count": null,
   "id": "7505d76d",
   "metadata": {},
   "outputs": [],
   "source": []
  }
 ],
 "metadata": {
  "kernelspec": {
   "display_name": "Python 3 (ipykernel)",
   "language": "python",
   "name": "python3"
  },
  "language_info": {
   "codemirror_mode": {
    "name": "ipython",
    "version": 3
   },
   "file_extension": ".py",
   "mimetype": "text/x-python",
   "name": "python",
   "nbconvert_exporter": "python",
   "pygments_lexer": "ipython3",
   "version": "3.9.12"
  }
 },
 "nbformat": 4,
 "nbformat_minor": 5
}
